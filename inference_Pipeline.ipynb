{
  "cells": [
    {
      "cell_type": "code",
      "source": [
        "! pip install kfp"
      ],
      "metadata": {
        "colab": {
          "base_uri": "https://localhost:8080/"
        },
        "id": "qo49pe9mDdiW",
        "executionInfo": {
          "status": "ok",
          "timestamp": 1714531760216,
          "user_tz": 420,
          "elapsed": 9249,
          "user": {
            "displayName": "",
            "userId": ""
          }
        },
        "outputId": "4c4499bb-c0fa-4d57-98e9-8e68e98d4c81"
      },
      "id": "qo49pe9mDdiW",
      "execution_count": 1,
      "outputs": [
        {
          "output_type": "stream",
          "name": "stdout",
          "text": [
            "Requirement already satisfied: kfp in /usr/local/lib/python3.10/dist-packages (2.7.0)\n",
            "Requirement already satisfied: click<9,>=8.0.0 in /usr/local/lib/python3.10/dist-packages (from kfp) (8.1.7)\n",
            "Requirement already satisfied: docstring-parser<1,>=0.7.3 in /usr/local/lib/python3.10/dist-packages (from kfp) (0.16)\n",
            "Requirement already satisfied: google-api-core!=2.0.*,!=2.1.*,!=2.2.*,!=2.3.0,<3.0.0dev,>=1.31.5 in /usr/local/lib/python3.10/dist-packages (from kfp) (2.11.1)\n",
            "Requirement already satisfied: google-auth<3,>=1.6.1 in /usr/local/lib/python3.10/dist-packages (from kfp) (2.27.0)\n",
            "Requirement already satisfied: google-cloud-storage<3,>=2.2.1 in /usr/local/lib/python3.10/dist-packages (from kfp) (2.8.0)\n",
            "Requirement already satisfied: kfp-pipeline-spec==0.3.0 in /usr/local/lib/python3.10/dist-packages (from kfp) (0.3.0)\n",
            "Requirement already satisfied: kfp-server-api<2.1.0,>=2.0.0 in /usr/local/lib/python3.10/dist-packages (from kfp) (2.0.5)\n",
            "Requirement already satisfied: kubernetes<27,>=8.0.0 in /usr/local/lib/python3.10/dist-packages (from kfp) (26.1.0)\n",
            "Requirement already satisfied: protobuf<5,>=4.21.1 in /usr/local/lib/python3.10/dist-packages (from kfp) (4.25.3)\n",
            "Requirement already satisfied: PyYAML<7,>=5.3 in /usr/local/lib/python3.10/dist-packages (from kfp) (6.0.1)\n",
            "Requirement already satisfied: requests-toolbelt<1,>=0.8.0 in /usr/local/lib/python3.10/dist-packages (from kfp) (0.10.1)\n",
            "Requirement already satisfied: tabulate<1,>=0.8.6 in /usr/local/lib/python3.10/dist-packages (from kfp) (0.9.0)\n",
            "Requirement already satisfied: urllib3<2.0.0 in /usr/local/lib/python3.10/dist-packages (from kfp) (1.26.18)\n",
            "Requirement already satisfied: googleapis-common-protos<2.0.dev0,>=1.56.2 in /usr/local/lib/python3.10/dist-packages (from google-api-core!=2.0.*,!=2.1.*,!=2.2.*,!=2.3.0,<3.0.0dev,>=1.31.5->kfp) (1.63.0)\n",
            "Requirement already satisfied: requests<3.0.0.dev0,>=2.18.0 in /usr/local/lib/python3.10/dist-packages (from google-api-core!=2.0.*,!=2.1.*,!=2.2.*,!=2.3.0,<3.0.0dev,>=1.31.5->kfp) (2.31.0)\n",
            "Requirement already satisfied: cachetools<6.0,>=2.0.0 in /usr/local/lib/python3.10/dist-packages (from google-auth<3,>=1.6.1->kfp) (5.3.3)\n",
            "Requirement already satisfied: pyasn1-modules>=0.2.1 in /usr/local/lib/python3.10/dist-packages (from google-auth<3,>=1.6.1->kfp) (0.4.0)\n",
            "Requirement already satisfied: rsa<5,>=3.1.4 in /usr/local/lib/python3.10/dist-packages (from google-auth<3,>=1.6.1->kfp) (4.9)\n",
            "Requirement already satisfied: google-cloud-core<3.0dev,>=2.3.0 in /usr/local/lib/python3.10/dist-packages (from google-cloud-storage<3,>=2.2.1->kfp) (2.3.3)\n",
            "Requirement already satisfied: google-resumable-media>=2.3.2 in /usr/local/lib/python3.10/dist-packages (from google-cloud-storage<3,>=2.2.1->kfp) (2.7.0)\n",
            "Requirement already satisfied: six>=1.10 in /usr/local/lib/python3.10/dist-packages (from kfp-server-api<2.1.0,>=2.0.0->kfp) (1.16.0)\n",
            "Requirement already satisfied: certifi in /usr/local/lib/python3.10/dist-packages (from kfp-server-api<2.1.0,>=2.0.0->kfp) (2024.2.2)\n",
            "Requirement already satisfied: python-dateutil in /usr/local/lib/python3.10/dist-packages (from kfp-server-api<2.1.0,>=2.0.0->kfp) (2.8.2)\n",
            "Requirement already satisfied: setuptools>=21.0.0 in /usr/local/lib/python3.10/dist-packages (from kubernetes<27,>=8.0.0->kfp) (67.7.2)\n",
            "Requirement already satisfied: websocket-client!=0.40.0,!=0.41.*,!=0.42.*,>=0.32.0 in /usr/local/lib/python3.10/dist-packages (from kubernetes<27,>=8.0.0->kfp) (1.7.0)\n",
            "Requirement already satisfied: requests-oauthlib in /usr/local/lib/python3.10/dist-packages (from kubernetes<27,>=8.0.0->kfp) (1.3.1)\n",
            "Requirement already satisfied: google-crc32c<2.0dev,>=1.0 in /usr/local/lib/python3.10/dist-packages (from google-resumable-media>=2.3.2->google-cloud-storage<3,>=2.2.1->kfp) (1.5.0)\n",
            "Requirement already satisfied: pyasn1<0.7.0,>=0.4.6 in /usr/local/lib/python3.10/dist-packages (from pyasn1-modules>=0.2.1->google-auth<3,>=1.6.1->kfp) (0.6.0)\n",
            "Requirement already satisfied: charset-normalizer<4,>=2 in /usr/local/lib/python3.10/dist-packages (from requests<3.0.0.dev0,>=2.18.0->google-api-core!=2.0.*,!=2.1.*,!=2.2.*,!=2.3.0,<3.0.0dev,>=1.31.5->kfp) (3.3.2)\n",
            "Requirement already satisfied: idna<4,>=2.5 in /usr/local/lib/python3.10/dist-packages (from requests<3.0.0.dev0,>=2.18.0->google-api-core!=2.0.*,!=2.1.*,!=2.2.*,!=2.3.0,<3.0.0dev,>=1.31.5->kfp) (3.7)\n",
            "Requirement already satisfied: oauthlib>=3.0.0 in /usr/local/lib/python3.10/dist-packages (from requests-oauthlib->kubernetes<27,>=8.0.0->kfp) (3.2.2)\n"
          ]
        }
      ]
    },
    {
      "cell_type": "code",
      "source": [
        "!pip install google-cloud-pipeline-components"
      ],
      "metadata": {
        "colab": {
          "base_uri": "https://localhost:8080/"
        },
        "id": "3L0EuOhBDoKm",
        "executionInfo": {
          "status": "ok",
          "timestamp": 1714531782957,
          "user_tz": 420,
          "elapsed": 8812,
          "user": {
            "displayName": "",
            "userId": ""
          }
        },
        "outputId": "71398ee7-ba6f-445d-e047-b752d84f8932"
      },
      "id": "3L0EuOhBDoKm",
      "execution_count": 2,
      "outputs": [
        {
          "output_type": "stream",
          "name": "stdout",
          "text": [
            "Requirement already satisfied: google-cloud-pipeline-components in /usr/local/lib/python3.10/dist-packages (2.14.0)\n",
            "Requirement already satisfied: google-api-core!=2.0.*,!=2.1.*,!=2.2.*,!=2.3.0,<3.0.0dev,>=1.31.5 in /usr/local/lib/python3.10/dist-packages (from google-cloud-pipeline-components) (2.11.1)\n",
            "Requirement already satisfied: kfp<=2.7.0,>=2.6.0 in /usr/local/lib/python3.10/dist-packages (from google-cloud-pipeline-components) (2.7.0)\n",
            "Requirement already satisfied: google-cloud-aiplatform<2,>=1.14.0 in /usr/local/lib/python3.10/dist-packages (from google-cloud-pipeline-components) (1.49.0)\n",
            "Requirement already satisfied: Jinja2<4,>=3.1.2 in /usr/local/lib/python3.10/dist-packages (from google-cloud-pipeline-components) (3.1.3)\n",
            "Requirement already satisfied: googleapis-common-protos<2.0.dev0,>=1.56.2 in /usr/local/lib/python3.10/dist-packages (from google-api-core!=2.0.*,!=2.1.*,!=2.2.*,!=2.3.0,<3.0.0dev,>=1.31.5->google-cloud-pipeline-components) (1.63.0)\n",
            "Requirement already satisfied: protobuf!=3.20.0,!=3.20.1,!=4.21.0,!=4.21.1,!=4.21.2,!=4.21.3,!=4.21.4,!=4.21.5,<5.0.0.dev0,>=3.19.5 in /usr/local/lib/python3.10/dist-packages (from google-api-core!=2.0.*,!=2.1.*,!=2.2.*,!=2.3.0,<3.0.0dev,>=1.31.5->google-cloud-pipeline-components) (4.25.3)\n",
            "Requirement already satisfied: google-auth<3.0.dev0,>=2.14.1 in /usr/local/lib/python3.10/dist-packages (from google-api-core!=2.0.*,!=2.1.*,!=2.2.*,!=2.3.0,<3.0.0dev,>=1.31.5->google-cloud-pipeline-components) (2.27.0)\n",
            "Requirement already satisfied: requests<3.0.0.dev0,>=2.18.0 in /usr/local/lib/python3.10/dist-packages (from google-api-core!=2.0.*,!=2.1.*,!=2.2.*,!=2.3.0,<3.0.0dev,>=1.31.5->google-cloud-pipeline-components) (2.31.0)\n",
            "Requirement already satisfied: proto-plus<2.0.0dev,>=1.22.0 in /usr/local/lib/python3.10/dist-packages (from google-cloud-aiplatform<2,>=1.14.0->google-cloud-pipeline-components) (1.23.0)\n",
            "Requirement already satisfied: packaging>=14.3 in /usr/local/lib/python3.10/dist-packages (from google-cloud-aiplatform<2,>=1.14.0->google-cloud-pipeline-components) (24.0)\n",
            "Requirement already satisfied: google-cloud-storage<3.0.0dev,>=1.32.0 in /usr/local/lib/python3.10/dist-packages (from google-cloud-aiplatform<2,>=1.14.0->google-cloud-pipeline-components) (2.8.0)\n",
            "Requirement already satisfied: google-cloud-bigquery!=3.20.0,<4.0.0dev,>=1.15.0 in /usr/local/lib/python3.10/dist-packages (from google-cloud-aiplatform<2,>=1.14.0->google-cloud-pipeline-components) (3.12.0)\n",
            "Requirement already satisfied: google-cloud-resource-manager<3.0.0dev,>=1.3.3 in /usr/local/lib/python3.10/dist-packages (from google-cloud-aiplatform<2,>=1.14.0->google-cloud-pipeline-components) (1.12.3)\n",
            "Requirement already satisfied: shapely<3.0.0dev in /usr/local/lib/python3.10/dist-packages (from google-cloud-aiplatform<2,>=1.14.0->google-cloud-pipeline-components) (2.0.4)\n",
            "Requirement already satisfied: pydantic<3 in /usr/local/lib/python3.10/dist-packages (from google-cloud-aiplatform<2,>=1.14.0->google-cloud-pipeline-components) (1.10.15)\n",
            "Requirement already satisfied: docstring-parser<1 in /usr/local/lib/python3.10/dist-packages (from google-cloud-aiplatform<2,>=1.14.0->google-cloud-pipeline-components) (0.16)\n",
            "Requirement already satisfied: MarkupSafe>=2.0 in /usr/local/lib/python3.10/dist-packages (from Jinja2<4,>=3.1.2->google-cloud-pipeline-components) (2.1.5)\n",
            "Requirement already satisfied: click<9,>=8.0.0 in /usr/local/lib/python3.10/dist-packages (from kfp<=2.7.0,>=2.6.0->google-cloud-pipeline-components) (8.1.7)\n",
            "Requirement already satisfied: kfp-pipeline-spec==0.3.0 in /usr/local/lib/python3.10/dist-packages (from kfp<=2.7.0,>=2.6.0->google-cloud-pipeline-components) (0.3.0)\n",
            "Requirement already satisfied: kfp-server-api<2.1.0,>=2.0.0 in /usr/local/lib/python3.10/dist-packages (from kfp<=2.7.0,>=2.6.0->google-cloud-pipeline-components) (2.0.5)\n",
            "Requirement already satisfied: kubernetes<27,>=8.0.0 in /usr/local/lib/python3.10/dist-packages (from kfp<=2.7.0,>=2.6.0->google-cloud-pipeline-components) (26.1.0)\n",
            "Requirement already satisfied: PyYAML<7,>=5.3 in /usr/local/lib/python3.10/dist-packages (from kfp<=2.7.0,>=2.6.0->google-cloud-pipeline-components) (6.0.1)\n",
            "Requirement already satisfied: requests-toolbelt<1,>=0.8.0 in /usr/local/lib/python3.10/dist-packages (from kfp<=2.7.0,>=2.6.0->google-cloud-pipeline-components) (0.10.1)\n",
            "Requirement already satisfied: tabulate<1,>=0.8.6 in /usr/local/lib/python3.10/dist-packages (from kfp<=2.7.0,>=2.6.0->google-cloud-pipeline-components) (0.9.0)\n",
            "Requirement already satisfied: urllib3<2.0.0 in /usr/local/lib/python3.10/dist-packages (from kfp<=2.7.0,>=2.6.0->google-cloud-pipeline-components) (1.26.18)\n",
            "Requirement already satisfied: grpcio<2.0dev,>=1.33.2 in /usr/local/lib/python3.10/dist-packages (from google-api-core!=2.0.*,!=2.1.*,!=2.2.*,!=2.3.0,<3.0.0dev,>=1.31.5->google-cloud-pipeline-components) (1.62.2)\n",
            "Requirement already satisfied: grpcio-status<2.0.dev0,>=1.33.2 in /usr/local/lib/python3.10/dist-packages (from google-api-core!=2.0.*,!=2.1.*,!=2.2.*,!=2.3.0,<3.0.0dev,>=1.31.5->google-cloud-pipeline-components) (1.48.2)\n",
            "Requirement already satisfied: cachetools<6.0,>=2.0.0 in /usr/local/lib/python3.10/dist-packages (from google-auth<3.0.dev0,>=2.14.1->google-api-core!=2.0.*,!=2.1.*,!=2.2.*,!=2.3.0,<3.0.0dev,>=1.31.5->google-cloud-pipeline-components) (5.3.3)\n",
            "Requirement already satisfied: pyasn1-modules>=0.2.1 in /usr/local/lib/python3.10/dist-packages (from google-auth<3.0.dev0,>=2.14.1->google-api-core!=2.0.*,!=2.1.*,!=2.2.*,!=2.3.0,<3.0.0dev,>=1.31.5->google-cloud-pipeline-components) (0.4.0)\n",
            "Requirement already satisfied: rsa<5,>=3.1.4 in /usr/local/lib/python3.10/dist-packages (from google-auth<3.0.dev0,>=2.14.1->google-api-core!=2.0.*,!=2.1.*,!=2.2.*,!=2.3.0,<3.0.0dev,>=1.31.5->google-cloud-pipeline-components) (4.9)\n",
            "Requirement already satisfied: google-cloud-core<3.0.0dev,>=1.6.0 in /usr/local/lib/python3.10/dist-packages (from google-cloud-bigquery!=3.20.0,<4.0.0dev,>=1.15.0->google-cloud-aiplatform<2,>=1.14.0->google-cloud-pipeline-components) (2.3.3)\n",
            "Requirement already satisfied: google-resumable-media<3.0dev,>=0.6.0 in /usr/local/lib/python3.10/dist-packages (from google-cloud-bigquery!=3.20.0,<4.0.0dev,>=1.15.0->google-cloud-aiplatform<2,>=1.14.0->google-cloud-pipeline-components) (2.7.0)\n",
            "Requirement already satisfied: python-dateutil<3.0dev,>=2.7.2 in /usr/local/lib/python3.10/dist-packages (from google-cloud-bigquery!=3.20.0,<4.0.0dev,>=1.15.0->google-cloud-aiplatform<2,>=1.14.0->google-cloud-pipeline-components) (2.8.2)\n",
            "Requirement already satisfied: grpc-google-iam-v1<1.0.0dev,>=0.12.4 in /usr/local/lib/python3.10/dist-packages (from google-cloud-resource-manager<3.0.0dev,>=1.3.3->google-cloud-aiplatform<2,>=1.14.0->google-cloud-pipeline-components) (0.13.0)\n",
            "Requirement already satisfied: six>=1.10 in /usr/local/lib/python3.10/dist-packages (from kfp-server-api<2.1.0,>=2.0.0->kfp<=2.7.0,>=2.6.0->google-cloud-pipeline-components) (1.16.0)\n",
            "Requirement already satisfied: certifi in /usr/local/lib/python3.10/dist-packages (from kfp-server-api<2.1.0,>=2.0.0->kfp<=2.7.0,>=2.6.0->google-cloud-pipeline-components) (2024.2.2)\n",
            "Requirement already satisfied: setuptools>=21.0.0 in /usr/local/lib/python3.10/dist-packages (from kubernetes<27,>=8.0.0->kfp<=2.7.0,>=2.6.0->google-cloud-pipeline-components) (67.7.2)\n",
            "Requirement already satisfied: websocket-client!=0.40.0,!=0.41.*,!=0.42.*,>=0.32.0 in /usr/local/lib/python3.10/dist-packages (from kubernetes<27,>=8.0.0->kfp<=2.7.0,>=2.6.0->google-cloud-pipeline-components) (1.7.0)\n",
            "Requirement already satisfied: requests-oauthlib in /usr/local/lib/python3.10/dist-packages (from kubernetes<27,>=8.0.0->kfp<=2.7.0,>=2.6.0->google-cloud-pipeline-components) (1.3.1)\n",
            "Requirement already satisfied: typing-extensions>=4.2.0 in /usr/local/lib/python3.10/dist-packages (from pydantic<3->google-cloud-aiplatform<2,>=1.14.0->google-cloud-pipeline-components) (4.11.0)\n",
            "Requirement already satisfied: charset-normalizer<4,>=2 in /usr/local/lib/python3.10/dist-packages (from requests<3.0.0.dev0,>=2.18.0->google-api-core!=2.0.*,!=2.1.*,!=2.2.*,!=2.3.0,<3.0.0dev,>=1.31.5->google-cloud-pipeline-components) (3.3.2)\n",
            "Requirement already satisfied: idna<4,>=2.5 in /usr/local/lib/python3.10/dist-packages (from requests<3.0.0.dev0,>=2.18.0->google-api-core!=2.0.*,!=2.1.*,!=2.2.*,!=2.3.0,<3.0.0dev,>=1.31.5->google-cloud-pipeline-components) (3.7)\n",
            "Requirement already satisfied: numpy<3,>=1.14 in /usr/local/lib/python3.10/dist-packages (from shapely<3.0.0dev->google-cloud-aiplatform<2,>=1.14.0->google-cloud-pipeline-components) (1.25.2)\n",
            "Requirement already satisfied: google-crc32c<2.0dev,>=1.0 in /usr/local/lib/python3.10/dist-packages (from google-resumable-media<3.0dev,>=0.6.0->google-cloud-bigquery!=3.20.0,<4.0.0dev,>=1.15.0->google-cloud-aiplatform<2,>=1.14.0->google-cloud-pipeline-components) (1.5.0)\n",
            "Requirement already satisfied: pyasn1<0.7.0,>=0.4.6 in /usr/local/lib/python3.10/dist-packages (from pyasn1-modules>=0.2.1->google-auth<3.0.dev0,>=2.14.1->google-api-core!=2.0.*,!=2.1.*,!=2.2.*,!=2.3.0,<3.0.0dev,>=1.31.5->google-cloud-pipeline-components) (0.6.0)\n",
            "Requirement already satisfied: oauthlib>=3.0.0 in /usr/local/lib/python3.10/dist-packages (from requests-oauthlib->kubernetes<27,>=8.0.0->kfp<=2.7.0,>=2.6.0->google-cloud-pipeline-components) (3.2.2)\n"
          ]
        }
      ]
    },
    {
      "cell_type": "code",
      "source": [
        "!pip install gcsfs"
      ],
      "metadata": {
        "colab": {
          "base_uri": "https://localhost:8080/"
        },
        "id": "UtZR7YAMDu81",
        "executionInfo": {
          "status": "ok",
          "timestamp": 1714531802542,
          "user_tz": 420,
          "elapsed": 8578,
          "user": {
            "displayName": "",
            "userId": ""
          }
        },
        "outputId": "183a4001-2aa4-4a82-a12b-64ddd3a754fc"
      },
      "id": "UtZR7YAMDu81",
      "execution_count": 3,
      "outputs": [
        {
          "output_type": "stream",
          "name": "stdout",
          "text": [
            "Requirement already satisfied: gcsfs in /usr/local/lib/python3.10/dist-packages (2023.6.0)\n",
            "Requirement already satisfied: aiohttp!=4.0.0a0,!=4.0.0a1 in /usr/local/lib/python3.10/dist-packages (from gcsfs) (3.9.5)\n",
            "Requirement already satisfied: decorator>4.1.2 in /usr/local/lib/python3.10/dist-packages (from gcsfs) (4.4.2)\n",
            "Requirement already satisfied: fsspec==2023.6.0 in /usr/local/lib/python3.10/dist-packages (from gcsfs) (2023.6.0)\n",
            "Requirement already satisfied: google-auth>=1.2 in /usr/local/lib/python3.10/dist-packages (from gcsfs) (2.27.0)\n",
            "Requirement already satisfied: google-auth-oauthlib in /usr/local/lib/python3.10/dist-packages (from gcsfs) (1.2.0)\n",
            "Requirement already satisfied: google-cloud-storage in /usr/local/lib/python3.10/dist-packages (from gcsfs) (2.8.0)\n",
            "Requirement already satisfied: requests in /usr/local/lib/python3.10/dist-packages (from gcsfs) (2.31.0)\n",
            "Requirement already satisfied: aiosignal>=1.1.2 in /usr/local/lib/python3.10/dist-packages (from aiohttp!=4.0.0a0,!=4.0.0a1->gcsfs) (1.3.1)\n",
            "Requirement already satisfied: attrs>=17.3.0 in /usr/local/lib/python3.10/dist-packages (from aiohttp!=4.0.0a0,!=4.0.0a1->gcsfs) (23.2.0)\n",
            "Requirement already satisfied: frozenlist>=1.1.1 in /usr/local/lib/python3.10/dist-packages (from aiohttp!=4.0.0a0,!=4.0.0a1->gcsfs) (1.4.1)\n",
            "Requirement already satisfied: multidict<7.0,>=4.5 in /usr/local/lib/python3.10/dist-packages (from aiohttp!=4.0.0a0,!=4.0.0a1->gcsfs) (6.0.5)\n",
            "Requirement already satisfied: yarl<2.0,>=1.0 in /usr/local/lib/python3.10/dist-packages (from aiohttp!=4.0.0a0,!=4.0.0a1->gcsfs) (1.9.4)\n",
            "Requirement already satisfied: async-timeout<5.0,>=4.0 in /usr/local/lib/python3.10/dist-packages (from aiohttp!=4.0.0a0,!=4.0.0a1->gcsfs) (4.0.3)\n",
            "Requirement already satisfied: cachetools<6.0,>=2.0.0 in /usr/local/lib/python3.10/dist-packages (from google-auth>=1.2->gcsfs) (5.3.3)\n",
            "Requirement already satisfied: pyasn1-modules>=0.2.1 in /usr/local/lib/python3.10/dist-packages (from google-auth>=1.2->gcsfs) (0.4.0)\n",
            "Requirement already satisfied: rsa<5,>=3.1.4 in /usr/local/lib/python3.10/dist-packages (from google-auth>=1.2->gcsfs) (4.9)\n",
            "Requirement already satisfied: requests-oauthlib>=0.7.0 in /usr/local/lib/python3.10/dist-packages (from google-auth-oauthlib->gcsfs) (1.3.1)\n",
            "Requirement already satisfied: google-api-core!=2.0.*,!=2.1.*,!=2.2.*,!=2.3.0,<3.0.0dev,>=1.31.5 in /usr/local/lib/python3.10/dist-packages (from google-cloud-storage->gcsfs) (2.11.1)\n",
            "Requirement already satisfied: google-cloud-core<3.0dev,>=2.3.0 in /usr/local/lib/python3.10/dist-packages (from google-cloud-storage->gcsfs) (2.3.3)\n",
            "Requirement already satisfied: google-resumable-media>=2.3.2 in /usr/local/lib/python3.10/dist-packages (from google-cloud-storage->gcsfs) (2.7.0)\n",
            "Requirement already satisfied: charset-normalizer<4,>=2 in /usr/local/lib/python3.10/dist-packages (from requests->gcsfs) (3.3.2)\n",
            "Requirement already satisfied: idna<4,>=2.5 in /usr/local/lib/python3.10/dist-packages (from requests->gcsfs) (3.7)\n",
            "Requirement already satisfied: urllib3<3,>=1.21.1 in /usr/local/lib/python3.10/dist-packages (from requests->gcsfs) (1.26.18)\n",
            "Requirement already satisfied: certifi>=2017.4.17 in /usr/local/lib/python3.10/dist-packages (from requests->gcsfs) (2024.2.2)\n",
            "Requirement already satisfied: googleapis-common-protos<2.0.dev0,>=1.56.2 in /usr/local/lib/python3.10/dist-packages (from google-api-core!=2.0.*,!=2.1.*,!=2.2.*,!=2.3.0,<3.0.0dev,>=1.31.5->google-cloud-storage->gcsfs) (1.63.0)\n",
            "Requirement already satisfied: protobuf!=3.20.0,!=3.20.1,!=4.21.0,!=4.21.1,!=4.21.2,!=4.21.3,!=4.21.4,!=4.21.5,<5.0.0.dev0,>=3.19.5 in /usr/local/lib/python3.10/dist-packages (from google-api-core!=2.0.*,!=2.1.*,!=2.2.*,!=2.3.0,<3.0.0dev,>=1.31.5->google-cloud-storage->gcsfs) (4.25.3)\n",
            "Requirement already satisfied: google-crc32c<2.0dev,>=1.0 in /usr/local/lib/python3.10/dist-packages (from google-resumable-media>=2.3.2->google-cloud-storage->gcsfs) (1.5.0)\n",
            "Requirement already satisfied: pyasn1<0.7.0,>=0.4.6 in /usr/local/lib/python3.10/dist-packages (from pyasn1-modules>=0.2.1->google-auth>=1.2->gcsfs) (0.6.0)\n",
            "Requirement already satisfied: oauthlib>=3.0.0 in /usr/local/lib/python3.10/dist-packages (from requests-oauthlib>=0.7.0->google-auth-oauthlib->gcsfs) (3.2.2)\n"
          ]
        }
      ]
    },
    {
      "cell_type": "code",
      "id": "kyFM8zcFlJ0nOcnEnzeai5ui",
      "metadata": {
        "tags": [],
        "id": "kyFM8zcFlJ0nOcnEnzeai5ui",
        "colab": {
          "base_uri": "https://localhost:8080/"
        },
        "executionInfo": {
          "status": "ok",
          "timestamp": 1714533114645,
          "user_tz": 420,
          "elapsed": 8081,
          "user": {
            "displayName": "",
            "userId": ""
          }
        },
        "outputId": "2805d4cd-6794-4f55-bde4-f0fdebac77f3"
      },
      "source": [
        "!pip install fsspec"
      ],
      "execution_count": 12,
      "outputs": [
        {
          "output_type": "stream",
          "name": "stdout",
          "text": [
            "Requirement already satisfied: fsspec in /usr/local/lib/python3.10/dist-packages (2023.6.0)\n"
          ]
        }
      ]
    },
    {
      "cell_type": "code",
      "source": [
        "!pip install scikit-learn"
      ],
      "metadata": {
        "colab": {
          "base_uri": "https://localhost:8080/"
        },
        "id": "LJHtSiKiF2Ab",
        "executionInfo": {
          "status": "ok",
          "timestamp": 1714533147358,
          "user_tz": 420,
          "elapsed": 8137,
          "user": {
            "displayName": "",
            "userId": ""
          }
        },
        "outputId": "d56243ee-d1a7-433d-8bd0-4fc830671fa6"
      },
      "id": "LJHtSiKiF2Ab",
      "execution_count": 13,
      "outputs": [
        {
          "output_type": "stream",
          "name": "stdout",
          "text": [
            "Requirement already satisfied: scikit-learn in /usr/local/lib/python3.10/dist-packages (1.2.2)\n",
            "Requirement already satisfied: numpy>=1.17.3 in /usr/local/lib/python3.10/dist-packages (from scikit-learn) (1.25.2)\n",
            "Requirement already satisfied: scipy>=1.3.2 in /usr/local/lib/python3.10/dist-packages (from scikit-learn) (1.11.4)\n",
            "Requirement already satisfied: joblib>=1.1.1 in /usr/local/lib/python3.10/dist-packages (from scikit-learn) (1.4.0)\n",
            "Requirement already satisfied: threadpoolctl>=2.0.0 in /usr/local/lib/python3.10/dist-packages (from scikit-learn) (3.4.0)\n"
          ]
        }
      ]
    },
    {
      "cell_type": "code",
      "source": [
        "# Set parameters\n",
        "project_id = 'final-project-ise-543'\n",
        "location = 'us-central1'"
      ],
      "metadata": {
        "id": "nOZNxe9sI4Fy",
        "executionInfo": {
          "status": "ok",
          "timestamp": 1714533167712,
          "user_tz": 420,
          "elapsed": 2,
          "user": {
            "displayName": "",
            "userId": ""
          }
        }
      },
      "id": "nOZNxe9sI4Fy",
      "execution_count": 14,
      "outputs": []
    },
    {
      "cell_type": "code",
      "source": [
        "from google.cloud import aiplatform\n",
        "aiplatform.init(project=project_id, location=location)\n",
        "\n",
        "from kfp.v2.dsl import pipeline, component, component, InputPath, OutputPath, Dataset\n",
        "import joblib\n",
        "import gcsfs\n",
        "import fsspec\n",
        "import pandas as pd\n",
        "import numpy as np"
      ],
      "metadata": {
        "id": "CbYEIxaYI_Aa",
        "executionInfo": {
          "status": "ok",
          "timestamp": 1714538218074,
          "user_tz": 420,
          "elapsed": 208,
          "user": {
            "displayName": "",
            "userId": ""
          }
        }
      },
      "id": "CbYEIxaYI_Aa",
      "execution_count": 22,
      "outputs": []
    },
    {
      "cell_type": "code",
      "source": [
        "imputed_age_artifact_path = \"gs://final-project-ise-543/67845614716/final-project-pipeline-20240501022509/fill-missing-values_8923059745900724224/executor_output.json\"\n",
        "model_path = 'gs://final-project-ise-543/67845614716/final-project-pipeline-20240501022509/train-decision-tree_-8658993199353692160/trained_model_artifact/decision_tree_model.joblib'"
      ],
      "metadata": {
        "id": "lSkOnck_JBAn",
        "executionInfo": {
          "status": "ok",
          "timestamp": 1714538530691,
          "user_tz": 420,
          "elapsed": 182,
          "user": {
            "displayName": "",
            "userId": ""
          }
        }
      },
      "id": "lSkOnck_JBAn",
      "execution_count": 28,
      "outputs": []
    },
    {
      "cell_type": "code",
      "source": [
        "imputed_age_artifact_path = pd.read_json(imputed_age_artifact_path).to_dict()\n",
        "imputed_age_artifact_path"
      ],
      "metadata": {
        "colab": {
          "base_uri": "https://localhost:8080/"
        },
        "id": "5ve9KrWXKjkd",
        "executionInfo": {
          "status": "ok",
          "timestamp": 1714538533558,
          "user_tz": 420,
          "elapsed": 215,
          "user": {
            "displayName": "",
            "userId": ""
          }
        },
        "outputId": "0cf9652b-dfc0-40f8-e5c8-09577b60638f"
      },
      "id": "5ve9KrWXKjkd",
      "execution_count": 29,
      "outputs": [
        {
          "output_type": "execute_result",
          "data": {
            "text/plain": [
              "{'artifacts': {'average_BMI': {'artifacts': [{'name': 'projects/67845614716/locations/us-central1/metadataStores/default/artifacts/16908359639672247856',\n",
              "     'uri': 'gs://final-project-ise-543/67845614716/final-project-pipeline-20240501022509/fill-missing-values_8923059745900724224/average_BMI',\n",
              "     'metadata': {'value': 25.785610800131707}}]},\n",
              "  'average_a1c': {'artifacts': [{'name': 'projects/67845614716/locations/us-central1/metadataStores/default/artifacts/1215537158465249095',\n",
              "     'uri': 'gs://final-project-ise-543/67845614716/final-project-pipeline-20240501022509/fill-missing-values_8923059745900724224/average_a1c',\n",
              "     'metadata': {'value': 4.281971983139468}}]},\n",
              "  'average_chol': {'artifacts': [{'name': 'projects/67845614716/locations/us-central1/metadataStores/default/artifacts/11000477488198328641',\n",
              "     'uri': 'gs://final-project-ise-543/67845614716/final-project-pipeline-20240501022509/fill-missing-values_8923059745900724224/average_chol',\n",
              "     'metadata': {'value': 241.6118115461181}}]},\n",
              "  'average_cig': {'artifacts': [{'name': 'projects/67845614716/locations/us-central1/metadataStores/default/artifacts/1312364986930585932',\n",
              "     'uri': 'gs://final-project-ise-543/67845614716/final-project-pipeline-20240501022509/fill-missing-values_8923059745900724224/average_cig',\n",
              "     'metadata': {'value': 18.404524284763806}}]},\n",
              "  'average_glucose': {'artifacts': [{'name': 'projects/67845614716/locations/us-central1/metadataStores/default/artifacts/11719159807906369488',\n",
              "     'uri': 'gs://final-project-ise-543/67845614716/final-project-pipeline-20240501022509/fill-missing-values_8923059745900724224/average_glucose',\n",
              "     'metadata': {'value': 81.63514492753623}}]},\n",
              "  'average_heart_rate': {'artifacts': [{'name': 'projects/67845614716/locations/us-central1/metadataStores/default/artifacts/1144404753266368405',\n",
              "     'uri': 'gs://final-project-ise-543/67845614716/final-project-pipeline-20240501022509/fill-missing-values_8923059745900724224/average_heart_rate',\n",
              "     'metadata': {'value': 75.75385119632907}}]},\n",
              "  'completed_data_path': {'artifacts': [{'name': 'projects/67845614716/locations/us-central1/metadataStores/default/artifacts/11896091891134464038',\n",
              "     'uri': 'gs://final-project-ise-543/67845614716/final-project-pipeline-20240501022509/fill-missing-values_8923059745900724224/completed_data_path',\n",
              "     'metadata': {}}]},\n",
              "  'median_BP': {'artifacts': [{'name': 'projects/67845614716/locations/us-central1/metadataStores/default/artifacts/10488075089207473537',\n",
              "     'uri': 'gs://final-project-ise-543/67845614716/final-project-pipeline-20240501022509/fill-missing-values_8923059745900724224/median_BP',\n",
              "     'metadata': {'value': 0.0}}]},\n",
              "  'median_education': {'artifacts': [{'name': 'projects/67845614716/locations/us-central1/metadataStores/default/artifacts/3250083600332921596',\n",
              "     'uri': 'gs://final-project-ise-543/67845614716/final-project-pipeline-20240501022509/fill-missing-values_8923059745900724224/median_education',\n",
              "     'metadata': {'value': 2.0}}]}}}"
            ]
          },
          "metadata": {},
          "execution_count": 29
        }
      ]
    },
    {
      "cell_type": "code",
      "source": [
        "imputed_age_artifact_path['artifacts']['average_BMI']['artifacts'][0]['metadata']['value']\n",
        "imputed_age_artifact_path['artifacts']['median_BP']['artifacts'][0]['metadata']['value']\n",
        "imputed_age_artifact_path['artifacts']['average_chol']['artifacts'][0]['metadata']['value']\n",
        "imputed_age_artifact_path['artifacts']['median_education']['artifacts'][0]['metadata']['value']\n",
        "imputed_age_artifact_path['artifacts']['average_a1c']['artifacts'][0]['metadata']['value']\n",
        "imputed_age_artifact_path['artifacts']['average_cig']['artifacts'][0]['metadata']['value']\n",
        "imputed_age_artifact_path['artifacts']['average_glucose']['artifacts'][0]['metadata']['value']\n",
        "imputed_age_artifact_path['artifacts']['average_heart_rate']['artifacts'][0]['metadata']['value']"
      ],
      "metadata": {
        "colab": {
          "base_uri": "https://localhost:8080/"
        },
        "id": "wKCmbSjGKnlH",
        "executionInfo": {
          "status": "ok",
          "timestamp": 1714538539832,
          "user_tz": 420,
          "elapsed": 206,
          "user": {
            "displayName": "",
            "userId": ""
          }
        },
        "outputId": "35cae338-c448-4fe2-b2b5-38fb3d924d78"
      },
      "id": "wKCmbSjGKnlH",
      "execution_count": 30,
      "outputs": [
        {
          "output_type": "execute_result",
          "data": {
            "text/plain": [
              "75.75385119632907"
            ]
          },
          "metadata": {},
          "execution_count": 30
        }
      ]
    },
    {
      "cell_type": "code",
      "source": [
        "import gcsfs\n",
        "import joblib\n",
        "\n",
        "fs = gcsfs.GCSFileSystem()\n",
        "\n",
        "with fs.open(model_path, 'rb') as f:\n",
        "    model = joblib.load(f)\n",
        "\n",
        "model"
      ],
      "metadata": {
        "colab": {
          "base_uri": "https://localhost:8080/",
          "height": 148
        },
        "id": "zDF1T4nPdFDU",
        "executionInfo": {
          "status": "ok",
          "timestamp": 1714538564323,
          "user_tz": 420,
          "elapsed": 1019,
          "user": {
            "displayName": "",
            "userId": ""
          }
        },
        "outputId": "90cbcfc4-2b01-4e51-f83c-a7d3bf05cf93"
      },
      "id": "zDF1T4nPdFDU",
      "execution_count": 31,
      "outputs": [
        {
          "output_type": "stream",
          "name": "stderr",
          "text": [
            "/usr/local/lib/python3.10/dist-packages/sklearn/base.py:318: UserWarning: Trying to unpickle estimator DecisionTreeClassifier from version 1.0.2 when using version 1.2.2. This might lead to breaking code or invalid results. Use at your own risk. For more info please refer to:\n",
            "https://scikit-learn.org/stable/model_persistence.html#security-maintainability-limitations\n",
            "  warnings.warn(\n"
          ]
        },
        {
          "output_type": "execute_result",
          "data": {
            "text/plain": [
              "DecisionTreeClassifier()"
            ],
            "text/html": [
              "<style>#sk-container-id-1 {color: black;background-color: white;}#sk-container-id-1 pre{padding: 0;}#sk-container-id-1 div.sk-toggleable {background-color: white;}#sk-container-id-1 label.sk-toggleable__label {cursor: pointer;display: block;width: 100%;margin-bottom: 0;padding: 0.3em;box-sizing: border-box;text-align: center;}#sk-container-id-1 label.sk-toggleable__label-arrow:before {content: \"▸\";float: left;margin-right: 0.25em;color: #696969;}#sk-container-id-1 label.sk-toggleable__label-arrow:hover:before {color: black;}#sk-container-id-1 div.sk-estimator:hover label.sk-toggleable__label-arrow:before {color: black;}#sk-container-id-1 div.sk-toggleable__content {max-height: 0;max-width: 0;overflow: hidden;text-align: left;background-color: #f0f8ff;}#sk-container-id-1 div.sk-toggleable__content pre {margin: 0.2em;color: black;border-radius: 0.25em;background-color: #f0f8ff;}#sk-container-id-1 input.sk-toggleable__control:checked~div.sk-toggleable__content {max-height: 200px;max-width: 100%;overflow: auto;}#sk-container-id-1 input.sk-toggleable__control:checked~label.sk-toggleable__label-arrow:before {content: \"▾\";}#sk-container-id-1 div.sk-estimator input.sk-toggleable__control:checked~label.sk-toggleable__label {background-color: #d4ebff;}#sk-container-id-1 div.sk-label input.sk-toggleable__control:checked~label.sk-toggleable__label {background-color: #d4ebff;}#sk-container-id-1 input.sk-hidden--visually {border: 0;clip: rect(1px 1px 1px 1px);clip: rect(1px, 1px, 1px, 1px);height: 1px;margin: -1px;overflow: hidden;padding: 0;position: absolute;width: 1px;}#sk-container-id-1 div.sk-estimator {font-family: monospace;background-color: #f0f8ff;border: 1px dotted black;border-radius: 0.25em;box-sizing: border-box;margin-bottom: 0.5em;}#sk-container-id-1 div.sk-estimator:hover {background-color: #d4ebff;}#sk-container-id-1 div.sk-parallel-item::after {content: \"\";width: 100%;border-bottom: 1px solid gray;flex-grow: 1;}#sk-container-id-1 div.sk-label:hover label.sk-toggleable__label {background-color: #d4ebff;}#sk-container-id-1 div.sk-serial::before {content: \"\";position: absolute;border-left: 1px solid gray;box-sizing: border-box;top: 0;bottom: 0;left: 50%;z-index: 0;}#sk-container-id-1 div.sk-serial {display: flex;flex-direction: column;align-items: center;background-color: white;padding-right: 0.2em;padding-left: 0.2em;position: relative;}#sk-container-id-1 div.sk-item {position: relative;z-index: 1;}#sk-container-id-1 div.sk-parallel {display: flex;align-items: stretch;justify-content: center;background-color: white;position: relative;}#sk-container-id-1 div.sk-item::before, #sk-container-id-1 div.sk-parallel-item::before {content: \"\";position: absolute;border-left: 1px solid gray;box-sizing: border-box;top: 0;bottom: 0;left: 50%;z-index: -1;}#sk-container-id-1 div.sk-parallel-item {display: flex;flex-direction: column;z-index: 1;position: relative;background-color: white;}#sk-container-id-1 div.sk-parallel-item:first-child::after {align-self: flex-end;width: 50%;}#sk-container-id-1 div.sk-parallel-item:last-child::after {align-self: flex-start;width: 50%;}#sk-container-id-1 div.sk-parallel-item:only-child::after {width: 0;}#sk-container-id-1 div.sk-dashed-wrapped {border: 1px dashed gray;margin: 0 0.4em 0.5em 0.4em;box-sizing: border-box;padding-bottom: 0.4em;background-color: white;}#sk-container-id-1 div.sk-label label {font-family: monospace;font-weight: bold;display: inline-block;line-height: 1.2em;}#sk-container-id-1 div.sk-label-container {text-align: center;}#sk-container-id-1 div.sk-container {/* jupyter's `normalize.less` sets `[hidden] { display: none; }` but bootstrap.min.css set `[hidden] { display: none !important; }` so we also need the `!important` here to be able to override the default hidden behavior on the sphinx rendered scikit-learn.org. See: https://github.com/scikit-learn/scikit-learn/issues/21755 */display: inline-block !important;position: relative;}#sk-container-id-1 div.sk-text-repr-fallback {display: none;}</style><div id=\"sk-container-id-1\" class=\"sk-top-container\"><div class=\"sk-text-repr-fallback\"><pre>DecisionTreeClassifier()</pre><b>In a Jupyter environment, please rerun this cell to show the HTML representation or trust the notebook. <br />On GitHub, the HTML representation is unable to render, please try loading this page with nbviewer.org.</b></div><div class=\"sk-container\" hidden><div class=\"sk-item\"><div class=\"sk-estimator sk-toggleable\"><input class=\"sk-toggleable__control sk-hidden--visually\" id=\"sk-estimator-id-1\" type=\"checkbox\" checked><label for=\"sk-estimator-id-1\" class=\"sk-toggleable__label sk-toggleable__label-arrow\">DecisionTreeClassifier</label><div class=\"sk-toggleable__content\"><pre>DecisionTreeClassifier()</pre></div></div></div></div></div>"
            ]
          },
          "metadata": {},
          "execution_count": 31
        }
      ]
    },
    {
      "cell_type": "code",
      "source": [
        "from kfp.v2.dsl import InputPath, OutputPath, Dataset\n",
        "\n",
        "@component(packages_to_install=[\"pandas\", \"numpy\", \"fsspec\", \"gcsfs\"])\n",
        "def perform_initial_data_preparation(input_dataset_path: str, output_dataset_path: OutputPath(Dataset)):\n",
        "    import pandas as pd\n",
        "    import numpy as np\n",
        "\n",
        "    data = pd.read_csv(input_dataset_path)\n",
        "\n",
        "    # Binning age into categories\n",
        "    age_bins = [0, 35, 55, 100]  # Define age bins\n",
        "    age_labels = ['Young', 'Middle-aged', 'Senior']\n",
        "    data['age_group'] = pd.cut(data['age'], bins=age_bins, labels=age_labels, right=False)\n",
        "\n",
        "    #  Binning cigarettes per day into smoker categories\n",
        "    cig_bins = [-1, 0, 10, 20, float('inf')]  # Define cigarette bins\n",
        "    cig_labels = ['Non-smoker', 'Light smoker', 'Moderate smoker', 'Heavy smoker']\n",
        "    data['smoker_type'] = pd.cut(data['cigsPerDay'], bins=cig_bins, labels=cig_labels, right=True)\n",
        "\n",
        "    # Log transformation of income and blood pressure, handling cases where value might be zero\n",
        "    data['log_income'] = np.log(data['income'] + 1)  # Adding 1 to avoid log(0)\n",
        "    data['log_sysBP'] = np.log(data['sysBP'])\n",
        "    data['log_diaBP'] = np.log(data['diaBP'])\n",
        "\n",
        "    # Perform one-hot encoding on categorical variables\n",
        "    data = pd.get_dummies(data, drop_first=True)\n",
        "\n",
        "    # Convert 'demog Customer Age' to an integer\n",
        "    # df[\"demog Customer Age\"] = df[\"demog Customer Age\"].astype(int)\n",
        "\n",
        "    data.to_csv(output_dataset_path, index=False)\n"
      ],
      "metadata": {
        "colab": {
          "base_uri": "https://localhost:8080/"
        },
        "id": "WBiGCrRxdkT0",
        "executionInfo": {
          "status": "ok",
          "timestamp": 1714538613623,
          "user_tz": 420,
          "elapsed": 252,
          "user": {
            "displayName": "",
            "userId": ""
          }
        },
        "outputId": "a37fdc4c-6f28-404a-c543-2da58059c1e8"
      },
      "id": "WBiGCrRxdkT0",
      "execution_count": 32,
      "outputs": [
        {
          "output_type": "stream",
          "name": "stderr",
          "text": [
            "/usr/local/lib/python3.10/dist-packages/kfp/dsl/component_decorator.py:119: FutureWarning: Python 3.7 has reached end-of-life. The default base_image used by the @dsl.component decorator will switch from 'python:3.7' to 'python:3.8' on April 23, 2024. To ensure your existing components work with versions of the KFP SDK released after that date, you should provide an explicit base_image argument and ensure your component works as intended on Python 3.8.\n",
            "  return component_factory.create_component_from_func(\n"
          ]
        }
      ]
    },
    {
      "cell_type": "code",
      "source": [
        "from kfp.v2.dsl import Input\n",
        "from kfp.v2.dsl import Model\n",
        "\n",
        "@component(packages_to_install=[\"pandas\"])\n",
        "def impute_validation(validation_dataset_path: InputPath('Dataset'),\n",
        "                        imputed_dataset_path: OutputPath('Dataset'),\n",
        "                        average_cig: float,\n",
        "                        median_BP: float,\n",
        "                        median_education: float,\n",
        "                        average_chol: float,\n",
        "                        average_BMI:float,\n",
        "                        average_glucose: float,\n",
        "                        average_a1c: float,\n",
        "                        average_heart_rate: float):\n",
        "    import pandas as pd\n",
        "    # Load the test dataset\n",
        "    df = pd.read_csv(validation_dataset_path)\n",
        "\n",
        "    # Impute missing values in the 'Glucose' column with the provided median value\n",
        "    df['cigsPerDay'].fillna(average_cig, inplace=True)\n",
        "    df['BPMeds'].fillna(median_BP, inplace=True)\n",
        "    df['education'].fillna(median_education, inplace=True)\n",
        "    df['totChol'].fillna(average_chol, inplace=True)\n",
        "    df['BMI'].fillna(average_BMI, inplace=True)\n",
        "    df['glucose'].fillna(average_glucose, inplace=True)\n",
        "    df['a1c'].fillna(average_a1c, inplace=True)\n",
        "    df['heartRate'].fillna(average_heart_rate, inplace=True)\n",
        "    # Save the imputed dataframe to the output path\n",
        "    df.to_csv(imputed_dataset_path, index=False)"
      ],
      "metadata": {
        "id": "yCUE1PR3dwlh",
        "executionInfo": {
          "status": "ok",
          "timestamp": 1714538886095,
          "user_tz": 420,
          "elapsed": 224,
          "user": {
            "displayName": "",
            "userId": ""
          }
        }
      },
      "id": "yCUE1PR3dwlh",
      "execution_count": 33,
      "outputs": []
    },
    {
      "cell_type": "code",
      "source": [
        "@component(packages_to_install=[\"pandas\", \"numpy\", \"scikit-learn\", \"joblib\", \"fsspec\", \"gcsfs\"])\n",
        "def perform_predictions(dataset_for_prediction_path: InputPath('Dataset'),\n",
        "                   model_path: str,\n",
        "                   predictions_path: OutputPath('Dataset')):\n",
        "\n",
        "    import pandas as pd\n",
        "    import joblib\n",
        "    import gcsfs\n",
        "\n",
        "    # Create a GCS file system object\n",
        "    import gcsfs\n",
        "    import joblib\n",
        "\n",
        "    fs = gcsfs.GCSFileSystem()\n",
        "\n",
        "    with fs.open(model_path, 'rb') as f:\n",
        "        trained_model = joblib.load(f)\n",
        "      # best_estimator_ = trained_model\n",
        "\n",
        "    # Access the individual base estimators of the BaggingClassifier\n",
        "    # Load the test dataset\n",
        "    pred_df = pd.read_csv(dataset_for_prediction_path)\n",
        "\n",
        "    # Make predictions\n",
        "    y_pred = trained_model.predict(pred_df.drop(['patientID'], axis=1))\n",
        "\n",
        "    # Convert the predictions to a dataframe\n",
        "    pred_df = pd.DataFrame(pred_df['patientID'])\n",
        "    pred_df['pred'] = y_pred\n",
        "    pred_df = pred_df[['patientID', 'pred']]\n",
        "\n",
        "    # Save the predictions\n",
        "    pred_df.to_csv(predictions_path, index=False)"
      ],
      "metadata": {
        "id": "M1K0kItzezHr",
        "executionInfo": {
          "status": "ok",
          "timestamp": 1714538917177,
          "user_tz": 420,
          "elapsed": 201,
          "user": {
            "displayName": "",
            "userId": ""
          }
        }
      },
      "id": "M1K0kItzezHr",
      "execution_count": 34,
      "outputs": []
    },
    {
      "cell_type": "code",
      "source": [
        "from kfp.v2.dsl import pipeline, Output, Dataset\n",
        "imputed_artifact_path = \"gs://final-project-ise-543/67845614716/final-project-pipeline-20240501022509/fill-missing-values_8923059745900724224/executor_output.json\"\n",
        "model_path = 'gs://final-project-ise-543/67845614716/final-project-pipeline-20240501022509/train-decision-tree_-8658993199353692160/trained_model_artifact/decision_tree_model.joblib'\n",
        "training_bmi_median = imputed_age_artifact_path['artifacts']['average_BMI']['artifacts'][0]['metadata']['value']\n",
        "imputed_bp_dictionary=imputed_age_artifact_path['artifacts']['median_BP']['artifacts'][0]['metadata']['value']\n",
        "imputed_chol_dictionary=imputed_age_artifact_path['artifacts']['average_chol']['artifacts'][0]['metadata']['value']\n",
        "imputed_edu_dictionary=imputed_age_artifact_path['artifacts']['median_education']['artifacts'][0]['metadata']['value']\n",
        "imputed_a1c_dictionary=imputed_age_artifact_path['artifacts']['average_a1c']['artifacts'][0]['metadata']['value']\n",
        "imputed_cig_dictionary=imputed_age_artifact_path['artifacts']['average_cig']['artifacts'][0]['metadata']['value']\n",
        "imputed_glucose_dictionary=imputed_age_artifact_path['artifacts']['average_glucose']['artifacts'][0]['metadata']['value']\n",
        "imputed_hr_dictionary=imputed_age_artifact_path['artifacts']['average_heart_rate']['artifacts'][0]['metadata']['value']\n",
        "@pipeline(name='final-inference-pipeline')\n",
        "def final_inference_pipeline(dataset_for_predictions_path: str,\n",
        "                               training_bmi_median: float = training_bmi_median,\n",
        "                               imputed_bp_dictionary: float = imputed_bp_dictionary,\n",
        "                               imputed_chol_dictionary: float = imputed_chol_dictionary,\n",
        "                               imputed_edu_dictionary: float = imputed_edu_dictionary,\n",
        "                               imputed_a1c_dictionary: float = imputed_a1c_dictionary,\n",
        "                               imputed_cig_dictionary: float = imputed_cig_dictionary,\n",
        "                               imputed_glucose_dictionary: float = imputed_glucose_dictionary,\n",
        "                               imputed_hr_dictionary: float = imputed_hr_dictionary,\n",
        "                               model_uri: str = model_path):\n",
        "\n",
        "    # Process dataset - initial data preparation\n",
        "    initial_prepared_dataset = perform_initial_data_preparation(input_dataset_path=dataset_for_predictions_path)\n",
        "\n",
        "    # Impute age\n",
        "    imputed_dataset = impute_validation(\n",
        "       validation_dataset_path=initial_prepared_dataset.outputs['output_dataset_path'],\n",
        "                        average_cig = imputed_cig_dictionary,\n",
        "                        median_BP = imputed_bp_dictionary,\n",
        "                        median_education = imputed_edu_dictionary,\n",
        "                        average_chol = imputed_chol_dictionary,\n",
        "                        average_BMI = training_bmi_median,\n",
        "                        average_glucose =  imputed_glucose_dictionary,\n",
        "                        average_a1c = imputed_a1c_dictionary,\n",
        "                        average_heart_rate = imputed_hr_dictionary\n",
        "    )\n",
        "\n",
        "    perform_predictions(\n",
        "        dataset_for_prediction_path=imputed_dataset.outputs['imputed_dataset_path'],\n",
        "        model_path=model_uri\n",
        "    )"
      ],
      "metadata": {
        "id": "IrvF2DtEe6ti",
        "executionInfo": {
          "status": "ok",
          "timestamp": 1714539717791,
          "user_tz": 420,
          "elapsed": 179,
          "user": {
            "displayName": "",
            "userId": ""
          }
        }
      },
      "id": "IrvF2DtEe6ti",
      "execution_count": 40,
      "outputs": []
    },
    {
      "cell_type": "code",
      "source": [
        "from kfp.v2 import compiler\n",
        "\n",
        "compiler.Compiler().compile(\n",
        "    pipeline_func=final_inference_pipeline,\n",
        "    package_path = 'final_inference_pipeline.json'\n",
        ")\n",
        "\n",
        "pipeline_job = aiplatform.PipelineJob(\n",
        "    display_name='final_inference_pipeline',\n",
        "    template_path='final_inference_pipeline.json',\n",
        "    pipeline_root='gs://final-project-ise-543',\n",
        "    parameter_values={\n",
        "        'dataset_for_predictions_path': 'gs://unscored_data/Final Project Evaluation Dataset.csv'\n",
        "    },\n",
        "    enable_caching=True\n",
        ")"
      ],
      "metadata": {
        "id": "QUW--kFsgSOf",
        "executionInfo": {
          "status": "ok",
          "timestamp": 1714539720488,
          "user_tz": 420,
          "elapsed": 232,
          "user": {
            "displayName": "",
            "userId": ""
          }
        }
      },
      "id": "QUW--kFsgSOf",
      "execution_count": 41,
      "outputs": []
    },
    {
      "cell_type": "code",
      "source": [
        "pipeline_job.run()"
      ],
      "metadata": {
        "colab": {
          "base_uri": "https://localhost:8080/"
        },
        "id": "gV2W39pDhwgN",
        "executionInfo": {
          "status": "ok",
          "timestamp": 1714539985419,
          "user_tz": 420,
          "elapsed": 254869,
          "user": {
            "displayName": "",
            "userId": ""
          }
        },
        "outputId": "0f029c67-7adc-4a71-d89a-7513dbfe9398"
      },
      "id": "gV2W39pDhwgN",
      "execution_count": 42,
      "outputs": [
        {
          "output_type": "stream",
          "name": "stderr",
          "text": [
            "INFO:google.cloud.aiplatform.pipeline_jobs:Creating PipelineJob\n",
            "INFO:google.cloud.aiplatform.pipeline_jobs:PipelineJob created. Resource name: projects/67845614716/locations/us-central1/pipelineJobs/final-inference-pipeline-20240501050200\n",
            "INFO:google.cloud.aiplatform.pipeline_jobs:To use this PipelineJob in another session:\n",
            "INFO:google.cloud.aiplatform.pipeline_jobs:pipeline_job = aiplatform.PipelineJob.get('projects/67845614716/locations/us-central1/pipelineJobs/final-inference-pipeline-20240501050200')\n",
            "INFO:google.cloud.aiplatform.pipeline_jobs:View Pipeline Job:\n",
            "https://console.cloud.google.com/vertex-ai/locations/us-central1/pipelines/runs/final-inference-pipeline-20240501050200?project=67845614716\n",
            "INFO:google.cloud.aiplatform.pipeline_jobs:PipelineJob projects/67845614716/locations/us-central1/pipelineJobs/final-inference-pipeline-20240501050200 current state:\n",
            "PipelineState.PIPELINE_STATE_RUNNING\n",
            "INFO:google.cloud.aiplatform.pipeline_jobs:PipelineJob projects/67845614716/locations/us-central1/pipelineJobs/final-inference-pipeline-20240501050200 current state:\n",
            "PipelineState.PIPELINE_STATE_RUNNING\n",
            "INFO:google.cloud.aiplatform.pipeline_jobs:PipelineJob projects/67845614716/locations/us-central1/pipelineJobs/final-inference-pipeline-20240501050200 current state:\n",
            "PipelineState.PIPELINE_STATE_RUNNING\n",
            "INFO:google.cloud.aiplatform.pipeline_jobs:PipelineJob projects/67845614716/locations/us-central1/pipelineJobs/final-inference-pipeline-20240501050200 current state:\n",
            "PipelineState.PIPELINE_STATE_RUNNING\n",
            "INFO:google.cloud.aiplatform.pipeline_jobs:PipelineJob projects/67845614716/locations/us-central1/pipelineJobs/final-inference-pipeline-20240501050200 current state:\n",
            "PipelineState.PIPELINE_STATE_RUNNING\n",
            "INFO:google.cloud.aiplatform.pipeline_jobs:PipelineJob run completed. Resource name: projects/67845614716/locations/us-central1/pipelineJobs/final-inference-pipeline-20240501050200\n"
          ]
        }
      ]
    },
    {
      "cell_type": "code",
      "source": [],
      "metadata": {
        "id": "CoKsrOvPiBWD"
      },
      "id": "CoKsrOvPiBWD",
      "execution_count": null,
      "outputs": []
    }
  ],
  "metadata": {
    "kernelspec": {
      "display_name": "Python 3",
      "language": "python",
      "name": "python3"
    },
    "language_info": {
      "codemirror_mode": {
        "name": "ipython",
        "version": 3
      },
      "file_extension": ".py",
      "mimetype": "text/x-python",
      "name": "python",
      "nbconvert_exporter": "python",
      "pygments_lexer": "ipython3",
      "version": "3.10.10"
    },
    "colab": {
      "provenance": [],
      "name": "ssgaikwa (Apr 30, 2024, 7:48:14 PM)"
    }
  },
  "nbformat": 4,
  "nbformat_minor": 5
}