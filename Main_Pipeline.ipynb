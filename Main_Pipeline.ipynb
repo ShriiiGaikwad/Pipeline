{
  "cells": [
    {
      "cell_type": "code",
      "id": "VBhOa3nHK69wnY9jx7BxS96P",
      "metadata": {
        "tags": [],
        "id": "VBhOa3nHK69wnY9jx7BxS96P",
        "colab": {
          "base_uri": "https://localhost:8080/"
        },
        "executionInfo": {
          "status": "ok",
          "timestamp": 1714520165584,
          "user_tz": 420,
          "elapsed": 7719,
          "user": {
            "displayName": "",
            "userId": ""
          }
        },
        "outputId": "629b6cde-7289-4bb6-8fd0-21f679dafd69"
      },
      "source": [
        "! pip install kfp"
      ],
      "execution_count": null,
      "outputs": [
        {
          "output_type": "stream",
          "name": "stdout",
          "text": [
            "Requirement already satisfied: kfp in /usr/local/lib/python3.10/dist-packages (2.7.0)\n",
            "Requirement already satisfied: click<9,>=8.0.0 in /usr/local/lib/python3.10/dist-packages (from kfp) (8.1.7)\n",
            "Requirement already satisfied: docstring-parser<1,>=0.7.3 in /usr/local/lib/python3.10/dist-packages (from kfp) (0.16)\n",
            "Requirement already satisfied: google-api-core!=2.0.*,!=2.1.*,!=2.2.*,!=2.3.0,<3.0.0dev,>=1.31.5 in /usr/local/lib/python3.10/dist-packages (from kfp) (2.11.1)\n",
            "Requirement already satisfied: google-auth<3,>=1.6.1 in /usr/local/lib/python3.10/dist-packages (from kfp) (2.27.0)\n",
            "Requirement already satisfied: google-cloud-storage<3,>=2.2.1 in /usr/local/lib/python3.10/dist-packages (from kfp) (2.8.0)\n",
            "Requirement already satisfied: kfp-pipeline-spec==0.3.0 in /usr/local/lib/python3.10/dist-packages (from kfp) (0.3.0)\n",
            "Requirement already satisfied: kfp-server-api<2.1.0,>=2.0.0 in /usr/local/lib/python3.10/dist-packages (from kfp) (2.0.5)\n",
            "Requirement already satisfied: kubernetes<27,>=8.0.0 in /usr/local/lib/python3.10/dist-packages (from kfp) (26.1.0)\n",
            "Requirement already satisfied: protobuf<5,>=4.21.1 in /usr/local/lib/python3.10/dist-packages (from kfp) (4.25.3)\n",
            "Requirement already satisfied: PyYAML<7,>=5.3 in /usr/local/lib/python3.10/dist-packages (from kfp) (6.0.1)\n",
            "Requirement already satisfied: requests-toolbelt<1,>=0.8.0 in /usr/local/lib/python3.10/dist-packages (from kfp) (0.10.1)\n",
            "Requirement already satisfied: tabulate<1,>=0.8.6 in /usr/local/lib/python3.10/dist-packages (from kfp) (0.9.0)\n",
            "Requirement already satisfied: urllib3<2.0.0 in /usr/local/lib/python3.10/dist-packages (from kfp) (1.26.18)\n",
            "Requirement already satisfied: googleapis-common-protos<2.0.dev0,>=1.56.2 in /usr/local/lib/python3.10/dist-packages (from google-api-core!=2.0.*,!=2.1.*,!=2.2.*,!=2.3.0,<3.0.0dev,>=1.31.5->kfp) (1.63.0)\n",
            "Requirement already satisfied: requests<3.0.0.dev0,>=2.18.0 in /usr/local/lib/python3.10/dist-packages (from google-api-core!=2.0.*,!=2.1.*,!=2.2.*,!=2.3.0,<3.0.0dev,>=1.31.5->kfp) (2.31.0)\n",
            "Requirement already satisfied: cachetools<6.0,>=2.0.0 in /usr/local/lib/python3.10/dist-packages (from google-auth<3,>=1.6.1->kfp) (5.3.3)\n",
            "Requirement already satisfied: pyasn1-modules>=0.2.1 in /usr/local/lib/python3.10/dist-packages (from google-auth<3,>=1.6.1->kfp) (0.4.0)\n",
            "Requirement already satisfied: rsa<5,>=3.1.4 in /usr/local/lib/python3.10/dist-packages (from google-auth<3,>=1.6.1->kfp) (4.9)\n",
            "Requirement already satisfied: google-cloud-core<3.0dev,>=2.3.0 in /usr/local/lib/python3.10/dist-packages (from google-cloud-storage<3,>=2.2.1->kfp) (2.3.3)\n",
            "Requirement already satisfied: google-resumable-media>=2.3.2 in /usr/local/lib/python3.10/dist-packages (from google-cloud-storage<3,>=2.2.1->kfp) (2.7.0)\n",
            "Requirement already satisfied: six>=1.10 in /usr/local/lib/python3.10/dist-packages (from kfp-server-api<2.1.0,>=2.0.0->kfp) (1.16.0)\n",
            "Requirement already satisfied: certifi in /usr/local/lib/python3.10/dist-packages (from kfp-server-api<2.1.0,>=2.0.0->kfp) (2024.2.2)\n",
            "Requirement already satisfied: python-dateutil in /usr/local/lib/python3.10/dist-packages (from kfp-server-api<2.1.0,>=2.0.0->kfp) (2.8.2)\n",
            "Requirement already satisfied: setuptools>=21.0.0 in /usr/local/lib/python3.10/dist-packages (from kubernetes<27,>=8.0.0->kfp) (67.7.2)\n",
            "Requirement already satisfied: websocket-client!=0.40.0,!=0.41.*,!=0.42.*,>=0.32.0 in /usr/local/lib/python3.10/dist-packages (from kubernetes<27,>=8.0.0->kfp) (1.7.0)\n",
            "Requirement already satisfied: requests-oauthlib in /usr/local/lib/python3.10/dist-packages (from kubernetes<27,>=8.0.0->kfp) (1.3.1)\n",
            "Requirement already satisfied: google-crc32c<2.0dev,>=1.0 in /usr/local/lib/python3.10/dist-packages (from google-resumable-media>=2.3.2->google-cloud-storage<3,>=2.2.1->kfp) (1.5.0)\n",
            "Requirement already satisfied: pyasn1<0.7.0,>=0.4.6 in /usr/local/lib/python3.10/dist-packages (from pyasn1-modules>=0.2.1->google-auth<3,>=1.6.1->kfp) (0.6.0)\n",
            "Requirement already satisfied: charset-normalizer<4,>=2 in /usr/local/lib/python3.10/dist-packages (from requests<3.0.0.dev0,>=2.18.0->google-api-core!=2.0.*,!=2.1.*,!=2.2.*,!=2.3.0,<3.0.0dev,>=1.31.5->kfp) (3.3.2)\n",
            "Requirement already satisfied: idna<4,>=2.5 in /usr/local/lib/python3.10/dist-packages (from requests<3.0.0.dev0,>=2.18.0->google-api-core!=2.0.*,!=2.1.*,!=2.2.*,!=2.3.0,<3.0.0dev,>=1.31.5->kfp) (3.7)\n",
            "Requirement already satisfied: oauthlib>=3.0.0 in /usr/local/lib/python3.10/dist-packages (from requests-oauthlib->kubernetes<27,>=8.0.0->kfp) (3.2.2)\n"
          ]
        }
      ]
    },
    {
      "cell_type": "code",
      "source": [
        "!pip install google-cloud-pipeline-components"
      ],
      "metadata": {
        "colab": {
          "base_uri": "https://localhost:8080/"
        },
        "id": "2fjjOFwGq0bx",
        "executionInfo": {
          "status": "ok",
          "timestamp": 1714520189892,
          "user_tz": 420,
          "elapsed": 8124,
          "user": {
            "displayName": "",
            "userId": ""
          }
        },
        "outputId": "fae5ab73-96c6-417d-a0d2-fe66c4a01634"
      },
      "id": "2fjjOFwGq0bx",
      "execution_count": null,
      "outputs": [
        {
          "output_type": "stream",
          "name": "stdout",
          "text": [
            "Requirement already satisfied: google-cloud-pipeline-components in /usr/local/lib/python3.10/dist-packages (2.14.0)\n",
            "Requirement already satisfied: google-api-core!=2.0.*,!=2.1.*,!=2.2.*,!=2.3.0,<3.0.0dev,>=1.31.5 in /usr/local/lib/python3.10/dist-packages (from google-cloud-pipeline-components) (2.11.1)\n",
            "Requirement already satisfied: kfp<=2.7.0,>=2.6.0 in /usr/local/lib/python3.10/dist-packages (from google-cloud-pipeline-components) (2.7.0)\n",
            "Requirement already satisfied: google-cloud-aiplatform<2,>=1.14.0 in /usr/local/lib/python3.10/dist-packages (from google-cloud-pipeline-components) (1.49.0)\n",
            "Requirement already satisfied: Jinja2<4,>=3.1.2 in /usr/local/lib/python3.10/dist-packages (from google-cloud-pipeline-components) (3.1.3)\n",
            "Requirement already satisfied: googleapis-common-protos<2.0.dev0,>=1.56.2 in /usr/local/lib/python3.10/dist-packages (from google-api-core!=2.0.*,!=2.1.*,!=2.2.*,!=2.3.0,<3.0.0dev,>=1.31.5->google-cloud-pipeline-components) (1.63.0)\n",
            "Requirement already satisfied: protobuf!=3.20.0,!=3.20.1,!=4.21.0,!=4.21.1,!=4.21.2,!=4.21.3,!=4.21.4,!=4.21.5,<5.0.0.dev0,>=3.19.5 in /usr/local/lib/python3.10/dist-packages (from google-api-core!=2.0.*,!=2.1.*,!=2.2.*,!=2.3.0,<3.0.0dev,>=1.31.5->google-cloud-pipeline-components) (4.25.3)\n",
            "Requirement already satisfied: google-auth<3.0.dev0,>=2.14.1 in /usr/local/lib/python3.10/dist-packages (from google-api-core!=2.0.*,!=2.1.*,!=2.2.*,!=2.3.0,<3.0.0dev,>=1.31.5->google-cloud-pipeline-components) (2.27.0)\n",
            "Requirement already satisfied: requests<3.0.0.dev0,>=2.18.0 in /usr/local/lib/python3.10/dist-packages (from google-api-core!=2.0.*,!=2.1.*,!=2.2.*,!=2.3.0,<3.0.0dev,>=1.31.5->google-cloud-pipeline-components) (2.31.0)\n",
            "Requirement already satisfied: proto-plus<2.0.0dev,>=1.22.0 in /usr/local/lib/python3.10/dist-packages (from google-cloud-aiplatform<2,>=1.14.0->google-cloud-pipeline-components) (1.23.0)\n",
            "Requirement already satisfied: packaging>=14.3 in /usr/local/lib/python3.10/dist-packages (from google-cloud-aiplatform<2,>=1.14.0->google-cloud-pipeline-components) (24.0)\n",
            "Requirement already satisfied: google-cloud-storage<3.0.0dev,>=1.32.0 in /usr/local/lib/python3.10/dist-packages (from google-cloud-aiplatform<2,>=1.14.0->google-cloud-pipeline-components) (2.8.0)\n",
            "Requirement already satisfied: google-cloud-bigquery!=3.20.0,<4.0.0dev,>=1.15.0 in /usr/local/lib/python3.10/dist-packages (from google-cloud-aiplatform<2,>=1.14.0->google-cloud-pipeline-components) (3.12.0)\n",
            "Requirement already satisfied: google-cloud-resource-manager<3.0.0dev,>=1.3.3 in /usr/local/lib/python3.10/dist-packages (from google-cloud-aiplatform<2,>=1.14.0->google-cloud-pipeline-components) (1.12.3)\n",
            "Requirement already satisfied: shapely<3.0.0dev in /usr/local/lib/python3.10/dist-packages (from google-cloud-aiplatform<2,>=1.14.0->google-cloud-pipeline-components) (2.0.4)\n",
            "Requirement already satisfied: pydantic<3 in /usr/local/lib/python3.10/dist-packages (from google-cloud-aiplatform<2,>=1.14.0->google-cloud-pipeline-components) (1.10.15)\n",
            "Requirement already satisfied: docstring-parser<1 in /usr/local/lib/python3.10/dist-packages (from google-cloud-aiplatform<2,>=1.14.0->google-cloud-pipeline-components) (0.16)\n",
            "Requirement already satisfied: MarkupSafe>=2.0 in /usr/local/lib/python3.10/dist-packages (from Jinja2<4,>=3.1.2->google-cloud-pipeline-components) (2.1.5)\n",
            "Requirement already satisfied: click<9,>=8.0.0 in /usr/local/lib/python3.10/dist-packages (from kfp<=2.7.0,>=2.6.0->google-cloud-pipeline-components) (8.1.7)\n",
            "Requirement already satisfied: kfp-pipeline-spec==0.3.0 in /usr/local/lib/python3.10/dist-packages (from kfp<=2.7.0,>=2.6.0->google-cloud-pipeline-components) (0.3.0)\n",
            "Requirement already satisfied: kfp-server-api<2.1.0,>=2.0.0 in /usr/local/lib/python3.10/dist-packages (from kfp<=2.7.0,>=2.6.0->google-cloud-pipeline-components) (2.0.5)\n",
            "Requirement already satisfied: kubernetes<27,>=8.0.0 in /usr/local/lib/python3.10/dist-packages (from kfp<=2.7.0,>=2.6.0->google-cloud-pipeline-components) (26.1.0)\n",
            "Requirement already satisfied: PyYAML<7,>=5.3 in /usr/local/lib/python3.10/dist-packages (from kfp<=2.7.0,>=2.6.0->google-cloud-pipeline-components) (6.0.1)\n",
            "Requirement already satisfied: requests-toolbelt<1,>=0.8.0 in /usr/local/lib/python3.10/dist-packages (from kfp<=2.7.0,>=2.6.0->google-cloud-pipeline-components) (0.10.1)\n",
            "Requirement already satisfied: tabulate<1,>=0.8.6 in /usr/local/lib/python3.10/dist-packages (from kfp<=2.7.0,>=2.6.0->google-cloud-pipeline-components) (0.9.0)\n",
            "Requirement already satisfied: urllib3<2.0.0 in /usr/local/lib/python3.10/dist-packages (from kfp<=2.7.0,>=2.6.0->google-cloud-pipeline-components) (1.26.18)\n",
            "Requirement already satisfied: grpcio<2.0dev,>=1.33.2 in /usr/local/lib/python3.10/dist-packages (from google-api-core!=2.0.*,!=2.1.*,!=2.2.*,!=2.3.0,<3.0.0dev,>=1.31.5->google-cloud-pipeline-components) (1.62.2)\n",
            "Requirement already satisfied: grpcio-status<2.0.dev0,>=1.33.2 in /usr/local/lib/python3.10/dist-packages (from google-api-core!=2.0.*,!=2.1.*,!=2.2.*,!=2.3.0,<3.0.0dev,>=1.31.5->google-cloud-pipeline-components) (1.48.2)\n",
            "Requirement already satisfied: cachetools<6.0,>=2.0.0 in /usr/local/lib/python3.10/dist-packages (from google-auth<3.0.dev0,>=2.14.1->google-api-core!=2.0.*,!=2.1.*,!=2.2.*,!=2.3.0,<3.0.0dev,>=1.31.5->google-cloud-pipeline-components) (5.3.3)\n",
            "Requirement already satisfied: pyasn1-modules>=0.2.1 in /usr/local/lib/python3.10/dist-packages (from google-auth<3.0.dev0,>=2.14.1->google-api-core!=2.0.*,!=2.1.*,!=2.2.*,!=2.3.0,<3.0.0dev,>=1.31.5->google-cloud-pipeline-components) (0.4.0)\n",
            "Requirement already satisfied: rsa<5,>=3.1.4 in /usr/local/lib/python3.10/dist-packages (from google-auth<3.0.dev0,>=2.14.1->google-api-core!=2.0.*,!=2.1.*,!=2.2.*,!=2.3.0,<3.0.0dev,>=1.31.5->google-cloud-pipeline-components) (4.9)\n",
            "Requirement already satisfied: google-cloud-core<3.0.0dev,>=1.6.0 in /usr/local/lib/python3.10/dist-packages (from google-cloud-bigquery!=3.20.0,<4.0.0dev,>=1.15.0->google-cloud-aiplatform<2,>=1.14.0->google-cloud-pipeline-components) (2.3.3)\n",
            "Requirement already satisfied: google-resumable-media<3.0dev,>=0.6.0 in /usr/local/lib/python3.10/dist-packages (from google-cloud-bigquery!=3.20.0,<4.0.0dev,>=1.15.0->google-cloud-aiplatform<2,>=1.14.0->google-cloud-pipeline-components) (2.7.0)\n",
            "Requirement already satisfied: python-dateutil<3.0dev,>=2.7.2 in /usr/local/lib/python3.10/dist-packages (from google-cloud-bigquery!=3.20.0,<4.0.0dev,>=1.15.0->google-cloud-aiplatform<2,>=1.14.0->google-cloud-pipeline-components) (2.8.2)\n",
            "Requirement already satisfied: grpc-google-iam-v1<1.0.0dev,>=0.12.4 in /usr/local/lib/python3.10/dist-packages (from google-cloud-resource-manager<3.0.0dev,>=1.3.3->google-cloud-aiplatform<2,>=1.14.0->google-cloud-pipeline-components) (0.13.0)\n",
            "Requirement already satisfied: six>=1.10 in /usr/local/lib/python3.10/dist-packages (from kfp-server-api<2.1.0,>=2.0.0->kfp<=2.7.0,>=2.6.0->google-cloud-pipeline-components) (1.16.0)\n",
            "Requirement already satisfied: certifi in /usr/local/lib/python3.10/dist-packages (from kfp-server-api<2.1.0,>=2.0.0->kfp<=2.7.0,>=2.6.0->google-cloud-pipeline-components) (2024.2.2)\n",
            "Requirement already satisfied: setuptools>=21.0.0 in /usr/local/lib/python3.10/dist-packages (from kubernetes<27,>=8.0.0->kfp<=2.7.0,>=2.6.0->google-cloud-pipeline-components) (67.7.2)\n",
            "Requirement already satisfied: websocket-client!=0.40.0,!=0.41.*,!=0.42.*,>=0.32.0 in /usr/local/lib/python3.10/dist-packages (from kubernetes<27,>=8.0.0->kfp<=2.7.0,>=2.6.0->google-cloud-pipeline-components) (1.7.0)\n",
            "Requirement already satisfied: requests-oauthlib in /usr/local/lib/python3.10/dist-packages (from kubernetes<27,>=8.0.0->kfp<=2.7.0,>=2.6.0->google-cloud-pipeline-components) (1.3.1)\n",
            "Requirement already satisfied: typing-extensions>=4.2.0 in /usr/local/lib/python3.10/dist-packages (from pydantic<3->google-cloud-aiplatform<2,>=1.14.0->google-cloud-pipeline-components) (4.11.0)\n",
            "Requirement already satisfied: charset-normalizer<4,>=2 in /usr/local/lib/python3.10/dist-packages (from requests<3.0.0.dev0,>=2.18.0->google-api-core!=2.0.*,!=2.1.*,!=2.2.*,!=2.3.0,<3.0.0dev,>=1.31.5->google-cloud-pipeline-components) (3.3.2)\n",
            "Requirement already satisfied: idna<4,>=2.5 in /usr/local/lib/python3.10/dist-packages (from requests<3.0.0.dev0,>=2.18.0->google-api-core!=2.0.*,!=2.1.*,!=2.2.*,!=2.3.0,<3.0.0dev,>=1.31.5->google-cloud-pipeline-components) (3.7)\n",
            "Requirement already satisfied: numpy<3,>=1.14 in /usr/local/lib/python3.10/dist-packages (from shapely<3.0.0dev->google-cloud-aiplatform<2,>=1.14.0->google-cloud-pipeline-components) (1.25.2)\n",
            "Requirement already satisfied: google-crc32c<2.0dev,>=1.0 in /usr/local/lib/python3.10/dist-packages (from google-resumable-media<3.0dev,>=0.6.0->google-cloud-bigquery!=3.20.0,<4.0.0dev,>=1.15.0->google-cloud-aiplatform<2,>=1.14.0->google-cloud-pipeline-components) (1.5.0)\n",
            "Requirement already satisfied: pyasn1<0.7.0,>=0.4.6 in /usr/local/lib/python3.10/dist-packages (from pyasn1-modules>=0.2.1->google-auth<3.0.dev0,>=2.14.1->google-api-core!=2.0.*,!=2.1.*,!=2.2.*,!=2.3.0,<3.0.0dev,>=1.31.5->google-cloud-pipeline-components) (0.6.0)\n",
            "Requirement already satisfied: oauthlib>=3.0.0 in /usr/local/lib/python3.10/dist-packages (from requests-oauthlib->kubernetes<27,>=8.0.0->kfp<=2.7.0,>=2.6.0->google-cloud-pipeline-components) (3.2.2)\n"
          ]
        }
      ]
    },
    {
      "cell_type": "code",
      "source": [
        "!pip install gcsfs"
      ],
      "metadata": {
        "colab": {
          "base_uri": "https://localhost:8080/"
        },
        "id": "V_-6oyhTrDsc",
        "executionInfo": {
          "status": "ok",
          "timestamp": 1714520205368,
          "user_tz": 420,
          "elapsed": 9264,
          "user": {
            "displayName": "",
            "userId": ""
          }
        },
        "outputId": "8b4da174-8468-4579-ddaf-6a94841d3fa0"
      },
      "id": "V_-6oyhTrDsc",
      "execution_count": null,
      "outputs": [
        {
          "output_type": "stream",
          "name": "stdout",
          "text": [
            "Requirement already satisfied: gcsfs in /usr/local/lib/python3.10/dist-packages (2023.6.0)\n",
            "Requirement already satisfied: aiohttp!=4.0.0a0,!=4.0.0a1 in /usr/local/lib/python3.10/dist-packages (from gcsfs) (3.9.5)\n",
            "Requirement already satisfied: decorator>4.1.2 in /usr/local/lib/python3.10/dist-packages (from gcsfs) (4.4.2)\n",
            "Requirement already satisfied: fsspec==2023.6.0 in /usr/local/lib/python3.10/dist-packages (from gcsfs) (2023.6.0)\n",
            "Requirement already satisfied: google-auth>=1.2 in /usr/local/lib/python3.10/dist-packages (from gcsfs) (2.27.0)\n",
            "Requirement already satisfied: google-auth-oauthlib in /usr/local/lib/python3.10/dist-packages (from gcsfs) (1.2.0)\n",
            "Requirement already satisfied: google-cloud-storage in /usr/local/lib/python3.10/dist-packages (from gcsfs) (2.8.0)\n",
            "Requirement already satisfied: requests in /usr/local/lib/python3.10/dist-packages (from gcsfs) (2.31.0)\n",
            "Requirement already satisfied: aiosignal>=1.1.2 in /usr/local/lib/python3.10/dist-packages (from aiohttp!=4.0.0a0,!=4.0.0a1->gcsfs) (1.3.1)\n",
            "Requirement already satisfied: attrs>=17.3.0 in /usr/local/lib/python3.10/dist-packages (from aiohttp!=4.0.0a0,!=4.0.0a1->gcsfs) (23.2.0)\n",
            "Requirement already satisfied: frozenlist>=1.1.1 in /usr/local/lib/python3.10/dist-packages (from aiohttp!=4.0.0a0,!=4.0.0a1->gcsfs) (1.4.1)\n",
            "Requirement already satisfied: multidict<7.0,>=4.5 in /usr/local/lib/python3.10/dist-packages (from aiohttp!=4.0.0a0,!=4.0.0a1->gcsfs) (6.0.5)\n",
            "Requirement already satisfied: yarl<2.0,>=1.0 in /usr/local/lib/python3.10/dist-packages (from aiohttp!=4.0.0a0,!=4.0.0a1->gcsfs) (1.9.4)\n",
            "Requirement already satisfied: async-timeout<5.0,>=4.0 in /usr/local/lib/python3.10/dist-packages (from aiohttp!=4.0.0a0,!=4.0.0a1->gcsfs) (4.0.3)\n",
            "Requirement already satisfied: cachetools<6.0,>=2.0.0 in /usr/local/lib/python3.10/dist-packages (from google-auth>=1.2->gcsfs) (5.3.3)\n",
            "Requirement already satisfied: pyasn1-modules>=0.2.1 in /usr/local/lib/python3.10/dist-packages (from google-auth>=1.2->gcsfs) (0.4.0)\n",
            "Requirement already satisfied: rsa<5,>=3.1.4 in /usr/local/lib/python3.10/dist-packages (from google-auth>=1.2->gcsfs) (4.9)\n",
            "Requirement already satisfied: requests-oauthlib>=0.7.0 in /usr/local/lib/python3.10/dist-packages (from google-auth-oauthlib->gcsfs) (1.3.1)\n",
            "Requirement already satisfied: google-api-core!=2.0.*,!=2.1.*,!=2.2.*,!=2.3.0,<3.0.0dev,>=1.31.5 in /usr/local/lib/python3.10/dist-packages (from google-cloud-storage->gcsfs) (2.11.1)\n",
            "Requirement already satisfied: google-cloud-core<3.0dev,>=2.3.0 in /usr/local/lib/python3.10/dist-packages (from google-cloud-storage->gcsfs) (2.3.3)\n",
            "Requirement already satisfied: google-resumable-media>=2.3.2 in /usr/local/lib/python3.10/dist-packages (from google-cloud-storage->gcsfs) (2.7.0)\n",
            "Requirement already satisfied: charset-normalizer<4,>=2 in /usr/local/lib/python3.10/dist-packages (from requests->gcsfs) (3.3.2)\n",
            "Requirement already satisfied: idna<4,>=2.5 in /usr/local/lib/python3.10/dist-packages (from requests->gcsfs) (3.7)\n",
            "Requirement already satisfied: urllib3<3,>=1.21.1 in /usr/local/lib/python3.10/dist-packages (from requests->gcsfs) (1.26.18)\n",
            "Requirement already satisfied: certifi>=2017.4.17 in /usr/local/lib/python3.10/dist-packages (from requests->gcsfs) (2024.2.2)\n",
            "Requirement already satisfied: googleapis-common-protos<2.0.dev0,>=1.56.2 in /usr/local/lib/python3.10/dist-packages (from google-api-core!=2.0.*,!=2.1.*,!=2.2.*,!=2.3.0,<3.0.0dev,>=1.31.5->google-cloud-storage->gcsfs) (1.63.0)\n",
            "Requirement already satisfied: protobuf!=3.20.0,!=3.20.1,!=4.21.0,!=4.21.1,!=4.21.2,!=4.21.3,!=4.21.4,!=4.21.5,<5.0.0.dev0,>=3.19.5 in /usr/local/lib/python3.10/dist-packages (from google-api-core!=2.0.*,!=2.1.*,!=2.2.*,!=2.3.0,<3.0.0dev,>=1.31.5->google-cloud-storage->gcsfs) (4.25.3)\n",
            "Requirement already satisfied: google-crc32c<2.0dev,>=1.0 in /usr/local/lib/python3.10/dist-packages (from google-resumable-media>=2.3.2->google-cloud-storage->gcsfs) (1.5.0)\n",
            "Requirement already satisfied: pyasn1<0.7.0,>=0.4.6 in /usr/local/lib/python3.10/dist-packages (from pyasn1-modules>=0.2.1->google-auth>=1.2->gcsfs) (0.6.0)\n",
            "Requirement already satisfied: oauthlib>=3.0.0 in /usr/local/lib/python3.10/dist-packages (from requests-oauthlib>=0.7.0->google-auth-oauthlib->gcsfs) (3.2.2)\n"
          ]
        }
      ]
    },
    {
      "cell_type": "code",
      "source": [
        "from google.cloud import aiplatform\n",
        "aiplatform.init(project='final-project-ise-543', location='us-central1')\n",
        "\n",
        "from kfp.v2 import dsl\n",
        "from kfp.v2.dsl import component, InputPath, OutputPath, pipeline"
      ],
      "metadata": {
        "colab": {
          "base_uri": "https://localhost:8080/"
        },
        "id": "vLbPa2mHrLjp",
        "executionInfo": {
          "status": "ok",
          "timestamp": 1714520210026,
          "user_tz": 420,
          "elapsed": 2405,
          "user": {
            "displayName": "",
            "userId": ""
          }
        },
        "outputId": "16e53c98-e2db-4295-a182-cafd9207844e"
      },
      "id": "vLbPa2mHrLjp",
      "execution_count": null,
      "outputs": [
        {
          "output_type": "stream",
          "name": "stderr",
          "text": [
            "<ipython-input-4-867dcd6bad21>:4: DeprecationWarning: The module `kfp.v2` is deprecated and will be removed in a futureversion. Please import directly from the `kfp` namespace, instead of `kfp.v2`.\n",
            "  from kfp.v2 import dsl\n"
          ]
        }
      ]
    },
    {
      "cell_type": "code",
      "source": [
        "from kfp.v2.dsl import component, InputPath, OutputPath\n",
        "\n",
        "\n",
        "@component(packages_to_install=[\"scikit-learn\", \"pandas\"])\n",
        "def load_Dataset(input_dataset_path: str, output_dataset_path : OutputPath('Dataset') ):\n",
        "    import pandas as pd\n",
        "    df = pd.read_csv(input_dataset_path)\n",
        "    df = pd.get_dummies(df, drop_first=True)\n",
        "    df.to_csv(output_dataset_path, index=False)"
      ],
      "metadata": {
        "colab": {
          "base_uri": "https://localhost:8080/"
        },
        "id": "4jGFxDZZnZB-",
        "executionInfo": {
          "status": "ok",
          "timestamp": 1714529812885,
          "user_tz": 420,
          "elapsed": 162,
          "user": {
            "displayName": "",
            "userId": ""
          }
        },
        "outputId": "f1724cc8-6e6c-4573-f66e-ca3ba54c81ca"
      },
      "id": "4jGFxDZZnZB-",
      "execution_count": null,
      "outputs": [
        {
          "output_type": "stream",
          "name": "stderr",
          "text": [
            "/usr/local/lib/python3.10/dist-packages/kfp/dsl/component_decorator.py:119: FutureWarning: Python 3.7 has reached end-of-life. The default base_image used by the @dsl.component decorator will switch from 'python:3.7' to 'python:3.8' on April 23, 2024. To ensure your existing components work with versions of the KFP SDK released after that date, you should provide an explicit base_image argument and ensure your component works as intended on Python 3.8.\n",
            "  return component_factory.create_component_from_func(\n"
          ]
        }
      ]
    },
    {
      "cell_type": "code",
      "source": [
        "from kfp.v2.dsl import InputPath, OutputPath, Dataset\n",
        "\n",
        "@component(packages_to_install=[\"pandas\", \"numpy\", \"fsspec\", \"gcsfs\"])\n",
        "def perform_initial_data_preparation(input_dataset_path: str, output_dataset_path: OutputPath(Dataset)):\n",
        "    import pandas as pd\n",
        "    import numpy as np\n",
        "\n",
        "    data = pd.read_csv(input_dataset_path)\n",
        "\n",
        "    # Binning age into categories\n",
        "    age_bins = [0, 35, 55, 100]  # Define age bins\n",
        "    age_labels = ['Young', 'Middle-aged', 'Senior']\n",
        "    data['age_group'] = pd.cut(data['age'], bins=age_bins, labels=age_labels, right=False)\n",
        "\n",
        "    #  Binning cigarettes per day into smoker categories\n",
        "    cig_bins = [-1, 0, 10, 20, float('inf')]  # Define cigarette bins\n",
        "    cig_labels = ['Non-smoker', 'Light smoker', 'Moderate smoker', 'Heavy smoker']\n",
        "    data['smoker_type'] = pd.cut(data['cigsPerDay'], bins=cig_bins, labels=cig_labels, right=True)\n",
        "\n",
        "    # Log transformation of income and blood pressure, handling cases where value might be zero\n",
        "    data['log_income'] = np.log(data['income'] + 1)  # Adding 1 to avoid log(0)\n",
        "    data['log_sysBP'] = np.log(data['sysBP'])\n",
        "    data['log_diaBP'] = np.log(data['diaBP'])\n",
        "\n",
        "    # Perform one-hot encoding on categorical variables\n",
        "    data = pd.get_dummies(data, drop_first=True)\n",
        "\n",
        "    # Convert 'demog Customer Age' to an integer\n",
        "    # df[\"demog Customer Age\"] = df[\"demog Customer Age\"].astype(int)\n",
        "\n",
        "    data.to_csv(output_dataset_path, index=False)\n"
      ],
      "metadata": {
        "id": "ttZLEhdA97HK"
      },
      "id": "ttZLEhdA97HK",
      "execution_count": null,
      "outputs": []
    },
    {
      "cell_type": "code",
      "source": [
        "from kfp.v2.dsl import component, InputPath, OutputPath\n",
        "\n",
        "\n",
        "@component(packages_to_install=[\"scikit-learn\", \"pandas\"])\n",
        "def split_dataset(input_dataset_path: InputPath('Dataset'),\n",
        "                  train_data_path: OutputPath('Dataset'),\n",
        "                  validation_data_path: OutputPath('Dataset')):\n",
        "    from sklearn.model_selection import train_test_split\n",
        "    import pandas as pd\n",
        "    df = pd.read_csv(input_dataset_path)\n",
        "\n",
        "    train_data, validation_data = train_test_split(df, test_size=0.20, random_state=42)\n",
        "\n",
        "    train_data.to_csv(train_data_path, index=False)\n",
        "\n",
        "    validation_data.to_csv(validation_data_path, index=False)"
      ],
      "metadata": {
        "id": "QqcSP_wHGMGb"
      },
      "id": "QqcSP_wHGMGb",
      "execution_count": null,
      "outputs": []
    },
    {
      "cell_type": "code",
      "source": [
        "from kfp.v2.dsl import InputPath, OutputPath, Output, Artifact, component\n",
        "\n",
        "@component(packages_to_install=[\"pandas\"])\n",
        "def fill_missing_values(train_data_path: InputPath('Dataset'),\n",
        "                        completed_data_path: OutputPath('Dataset'),\n",
        "                        average_cig: Output[Artifact],\n",
        "                        median_BP: Output[Artifact],\n",
        "                        median_education: Output[Artifact],\n",
        "                        average_chol: Output[Artifact],\n",
        "                        average_BMI: Output[Artifact],\n",
        "                        average_glucose: Output[Artifact],\n",
        "                        average_a1c: Output[Artifact],\n",
        "                        average_heart_rate: Output[Artifact]):\n",
        "    import pandas as pd\n",
        "\n",
        "    # Loading the dataset\n",
        "    data_frame = pd.read_csv(train_data_path)\n",
        "\n",
        "    # Removing patientID as it's not used in calculations\n",
        "    data_frame.drop(['patientID'], axis=1, inplace=True)\n",
        "\n",
        "    # Calculating means and medians for imputation\n",
        "    mean_cigs_per_day = data_frame['cigsPerDay'].mean()\n",
        "    median_BP_meds = data_frame['BPMeds'].median()\n",
        "    median_education_level = data_frame['education'].median()\n",
        "    mean_total_chol = data_frame['totChol'].mean()\n",
        "    mean_BMI = data_frame['BMI'].mean()\n",
        "    mean_glucose_level = data_frame['glucose'].mean()\n",
        "    mean_a1c_level = data_frame['a1c'].mean()\n",
        "    mean_heart_rate = data_frame['heartRate'].mean()\n",
        "\n",
        "    # Imputing missing values\n",
        "    data_frame['cigsPerDay'].fillna(mean_cigs_per_day, inplace=True)\n",
        "    data_frame['BPMeds'].fillna(median_BP_meds, inplace=True)\n",
        "    data_frame['education'].fillna(median_education_level, inplace=True)\n",
        "    data_frame['totChol'].fillna(mean_total_chol, inplace=True)\n",
        "    data_frame['BMI'].fillna(mean_BMI, inplace=True)\n",
        "    data_frame['glucose'].fillna(mean_glucose_level, inplace=True)\n",
        "    data_frame['a1c'].fillna(mean_a1c_level, inplace=True)\n",
        "    data_frame['heartRate'].fillna(mean_heart_rate, inplace=True)\n",
        "\n",
        "    # Saving the modified dataset\n",
        "    data_frame.to_csv(completed_data_path, index=False)\n",
        "\n",
        "    # Storing calculated statistics in output artifacts\n",
        "    average_cig.metadata['value'] = mean_cigs_per_day\n",
        "    median_BP.metadata['value'] = median_BP_meds\n",
        "    median_education.metadata['value'] = median_education_level\n",
        "    average_chol.metadata['value'] = mean_total_chol\n",
        "    average_BMI.metadata['value'] = mean_BMI\n",
        "    average_glucose.metadata['value'] = mean_glucose_level\n",
        "    average_a1c.metadata['value'] = mean_a1c_level\n",
        "    average_heart_rate.metadata['value'] = mean_heart_rate\n"
      ],
      "metadata": {
        "id": "WnukKqjCRCdn"
      },
      "id": "WnukKqjCRCdn",
      "execution_count": null,
      "outputs": []
    },
    {
      "cell_type": "code",
      "source": [
        "from kfp.v2.dsl import InputPath, OutputPath, Input, Model, component\n",
        "\n",
        "@component(packages_to_install=[\"pandas\"])\n",
        "def correct_missing_values(validation_data_path: InputPath('Dataset'),\n",
        "                           corrected_data_path: OutputPath('Dataset'),\n",
        "                           average_cigs: Input[Artifact],\n",
        "                           median_BP: Input[Artifact],\n",
        "                           median_education: Input[Artifact],\n",
        "                           average_chol: Input[Artifact],\n",
        "                           average_BMI: Input[Artifact],\n",
        "                           average_glucose: Input[Artifact],\n",
        "                           average_a1c: Input[Artifact],\n",
        "                           average_heart_rate: Input[Artifact]):\n",
        "    import pandas as pd\n",
        "\n",
        "    # Loading the validation data\n",
        "    data_frame = pd.read_csv(validation_data_path)\n",
        "\n",
        "    # Removing patient ID as it is not needed for analysis\n",
        "    data_frame.drop(['patientID'], axis=1, inplace=True)\n",
        "\n",
        "    # Using provided mean/median values for imputation\n",
        "    data_frame['cigsPerDay'].fillna(average_cigs.metadata['value'], inplace=True)\n",
        "    data_frame['BPMeds'].fillna(median_BP.metadata['value'], inplace=True)\n",
        "    data_frame['education'].fillna(median_education.metadata['value'], inplace=True)\n",
        "    data_frame['totChol'].fillna(average_chol.metadata['value'], inplace=True)\n",
        "    data_frame['BMI'].fillna(average_BMI.metadata['value'], inplace=True)\n",
        "    data_frame['glucose'].fillna(average_glucose.metadata['value'], inplace=True)\n",
        "    data_frame['a1c'].fillna(average_a1c.metadata['value'], inplace=True)\n",
        "    data_frame['heartRate'].fillna(average_heart_rate.metadata['value'], inplace=True)\n",
        "\n",
        "    # Outputting the corrected dataset\n",
        "    data_frame.to_csv(corrected_data_path, index=False)\n"
      ],
      "metadata": {
        "id": "toqz2_CuTJMy"
      },
      "id": "toqz2_CuTJMy",
      "execution_count": null,
      "outputs": []
    },
    {
      "cell_type": "code",
      "source": [
        "@component(packages_to_install=[\"pandas\", \"numpy\", \"scikit-learn\", \"imbalanced-learn==0.11.0\"])\n",
        "def apply_SMOTE(input_file_path: InputPath('Dataset'), output_file_path: OutputPath('Dataset')):\n",
        "    import pandas as pd\n",
        "    from imblearn.over_sampling import SMOTE\n",
        "\n",
        "    # Reading the dataset\n",
        "    data = pd.read_csv(input_file_path)\n",
        "\n",
        "    # Separating features and the target variable\n",
        "    features = data.drop('TenYearCHD', axis=1)\n",
        "    target = data['TenYearCHD']\n",
        "\n",
        "    # Applying SMOTE to balance the dataset\n",
        "    smote = SMOTE()\n",
        "    features_balanced, target_balanced = smote.fit_resample(features, target)\n",
        "\n",
        "    # Creating a DataFrame from the balanced features and target\n",
        "    balanced_features = pd.DataFrame(features_balanced, columns=features.columns)\n",
        "    balanced_target = pd.DataFrame(target_balanced, columns=['TenYearCHD'])\n",
        "\n",
        "    # Combining the features and target into one DataFrame\n",
        "    balanced_data = pd.concat([balanced_features, balanced_target], axis=1)\n",
        "\n",
        "    # Saving the balanced dataset to the specified output path\n",
        "    balanced_data.to_csv(output_file_path, index=False)\n"
      ],
      "metadata": {
        "id": "_yfPl9FxlwLZ"
      },
      "id": "_yfPl9FxlwLZ",
      "execution_count": null,
      "outputs": []
    },
    {
      "cell_type": "code",
      "source": [
        "@component(packages_to_install=[\"pandas\", \"scikit-learn\", \"joblib\"])\n",
        "def train_decision_tree(training_dataset_path: InputPath('Dataset'),\n",
        "                        trained_model_artifact: Output[Model]):\n",
        "\n",
        "    import pandas as pd\n",
        "    from sklearn.tree import DecisionTreeClassifier\n",
        "    import joblib\n",
        "    import os\n",
        "\n",
        "    # Load the training data\n",
        "    train_df = pd.read_csv(training_dataset_path)\n",
        "\n",
        "    X_train = train_df.drop('TenYearCHD', axis=1)\n",
        "    y_train = train_df['TenYearCHD']\n",
        "\n",
        "    # Initialize and train the decision tree model\n",
        "    decision_tree_model = DecisionTreeClassifier()\n",
        "    decision_tree_model.fit(X_train, y_train)\n",
        "\n",
        "    # Save the trained model to the designated output path\n",
        "    os.makedirs(trained_model_artifact.path, exist_ok=True)\n",
        "    joblib.dump(decision_tree_model, os.path.join(trained_model_artifact.path, \"decision_tree_model.joblib\"))\n"
      ],
      "metadata": {
        "id": "oK4DFrKulwzG"
      },
      "id": "oK4DFrKulwzG",
      "execution_count": null,
      "outputs": []
    },
    {
      "cell_type": "code",
      "source": [
        "from kfp.v2.dsl import Metrics\n",
        "\n",
        "@component(packages_to_install=[\"pandas\", \"scikit-learn\", \"joblib\"])\n",
        "def evaluate_model(test_dataset_path: InputPath('Dataset'),\n",
        "                   model: Input[Model],\n",
        "                   metrics: Output[Metrics]):\n",
        "\n",
        "    import pandas as pd\n",
        "    import joblib\n",
        "    from sklearn.metrics import confusion_matrix, accuracy_score, f1_score\n",
        "\n",
        "    # Load the test dataset\n",
        "    test_df = pd.read_csv(test_dataset_path)\n",
        "    X_test = test_df.drop(columns=['TenYearCHD'])\n",
        "    y_test = test_df['TenYearCHD']\n",
        "\n",
        "    # Load the trained model\n",
        "    model_file_path = model.path + \"/decision_tree_model.joblib\"\n",
        "    trained_model = joblib.load(model_file_path)\n",
        "\n",
        "    # Make predictions\n",
        "    y_pred = trained_model.predict(X_test)\n",
        "\n",
        "    # Calculate the confusion matrix and extract components\n",
        "    tn, fp, fn, tp = confusion_matrix(y_test, y_pred).ravel()\n",
        "\n",
        "    # Calculate metrics\n",
        "    accuracy = accuracy_score(y_test, y_pred)\n",
        "    f1 = f1_score(y_test, y_pred, average='weighted')\n",
        "\n",
        "    # Log each component of the confusion matrix separately\n",
        "    metrics.log_metric(\"accuracy\", accuracy)\n",
        "    metrics.log_metric(\"f1_score\", f1)\n",
        "    metrics.log_metric(\"true_negatives\", int(tn))\n",
        "    metrics.log_metric(\"false_positives\", int(fp))\n",
        "    metrics.log_metric(\"false_negatives\", int(fn))\n",
        "    metrics.log_metric(\"true_positives\", int(tp))\n"
      ],
      "metadata": {
        "id": "Oo8uMdf6l-Dz"
      },
      "id": "Oo8uMdf6l-Dz",
      "execution_count": null,
      "outputs": []
    },
    {
      "cell_type": "code",
      "source": [
        "from kfp.v2.dsl import pipeline, Output, Dataset, component\n",
        "\n",
        "@pipeline(name='Final-project-pipeline')\n",
        "def final_project_pipeline(training_dataset_path: str):\n",
        "\n",
        "    # Process training dataset - initial data preparation\n",
        "    load_data = perform_initial_data_preparation(input_dataset_path = training_dataset_path)\n",
        "    split_result = split_dataset(input_dataset_path=load_data.output)\n",
        "\n",
        "    # Process training dataset - impute age and other features\n",
        "    imputed_training_data = fill_missing_values(\n",
        "        train_data_path=split_result.outputs['train_data_path'])\n",
        "\n",
        "    # Impute age and other features in validation dataset using the same means/medians from training data\n",
        "    imputed_validation_data = correct_missing_values(\n",
        "        validation_data_path=split_result.outputs['validation_data_path'],\n",
        "        average_cigs=imputed_training_data.outputs['average_cig'],\n",
        "        median_BP=imputed_training_data.outputs['median_BP'],\n",
        "        median_education=imputed_training_data.outputs['median_education'],\n",
        "        average_chol=imputed_training_data.outputs['average_chol'],\n",
        "        average_BMI=imputed_training_data.outputs['average_BMI'],\n",
        "        average_glucose=imputed_training_data.outputs['average_glucose'],\n",
        "        average_a1c=imputed_training_data.outputs['average_a1c'],\n",
        "        average_heart_rate=imputed_training_data.outputs['average_heart_rate'])\n",
        "\n",
        "    # Perform SMOTE oversampling on the imputed training dataset\n",
        "    oversampled_training_data = apply_SMOTE(\n",
        "        input_file_path=imputed_training_data.outputs['completed_data_path'])\n",
        "\n",
        "    # Train a Decision Tree model\n",
        "    trained_model = train_decision_tree(\n",
        "        training_dataset_path=oversampled_training_data.outputs['output_file_path'])\n",
        "\n",
        "    # Evaluate the model using the imputed validation dataset\n",
        "    evaluate_model(\n",
        "        test_dataset_path=imputed_validation_data.outputs['corrected_data_path'],\n",
        "        model=trained_model.outputs['trained_model_artifact'])\n"
      ],
      "metadata": {
        "id": "Q7xPYchmmK2o"
      },
      "id": "Q7xPYchmmK2o",
      "execution_count": null,
      "outputs": []
    },
    {
      "cell_type": "code",
      "source": [
        "from kfp.v2 import compiler\n",
        "\n",
        "compiler.Compiler().compile(\n",
        "    pipeline_func=final_project_pipeline,\n",
        "    package_path = 'final_pipeline.json'\n",
        ")\n",
        "\n",
        "pipeline_job = aiplatform.PipelineJob(\n",
        "    display_name='final_modeling_pipeline',\n",
        "    template_path='final_pipeline.json',\n",
        "    pipeline_root='gs://final-project-ise-543',\n",
        "    parameter_values={\n",
        "      'training_dataset_path': 'gs://final_project_ise_543/Final Project Dataset.csv'},\n",
        "    enable_caching=True\n",
        ")"
      ],
      "metadata": {
        "id": "-fHAngGZm1Zv"
      },
      "id": "-fHAngGZm1Zv",
      "execution_count": null,
      "outputs": []
    },
    {
      "cell_type": "code",
      "source": [
        "pipeline_job.run()"
      ],
      "metadata": {
        "colab": {
          "base_uri": "https://localhost:8080/"
        },
        "id": "QHII2G8Wt50x",
        "executionInfo": {
          "status": "ok",
          "timestamp": 1714530858843,
          "user_tz": 420,
          "elapsed": 70563,
          "user": {
            "displayName": "",
            "userId": ""
          }
        },
        "outputId": "3d21ce0a-1f95-4bfb-e185-9caa19b2fa87"
      },
      "id": "QHII2G8Wt50x",
      "execution_count": null,
      "outputs": [
        {
          "output_type": "stream",
          "name": "stderr",
          "text": [
            "INFO:google.cloud.aiplatform.pipeline_jobs:Creating PipelineJob\n",
            "INFO:google.cloud.aiplatform.pipeline_jobs:PipelineJob created. Resource name: projects/67845614716/locations/us-central1/pipelineJobs/final-project-pipeline-20240501023307\n",
            "INFO:google.cloud.aiplatform.pipeline_jobs:To use this PipelineJob in another session:\n",
            "INFO:google.cloud.aiplatform.pipeline_jobs:pipeline_job = aiplatform.PipelineJob.get('projects/67845614716/locations/us-central1/pipelineJobs/final-project-pipeline-20240501023307')\n",
            "INFO:google.cloud.aiplatform.pipeline_jobs:View Pipeline Job:\n",
            "https://console.cloud.google.com/vertex-ai/locations/us-central1/pipelines/runs/final-project-pipeline-20240501023307?project=67845614716\n",
            "INFO:google.cloud.aiplatform.pipeline_jobs:PipelineJob projects/67845614716/locations/us-central1/pipelineJobs/final-project-pipeline-20240501023307 current state:\n",
            "PipelineState.PIPELINE_STATE_RUNNING\n",
            "INFO:google.cloud.aiplatform.pipeline_jobs:PipelineJob projects/67845614716/locations/us-central1/pipelineJobs/final-project-pipeline-20240501023307 current state:\n",
            "PipelineState.PIPELINE_STATE_RUNNING\n",
            "INFO:google.cloud.aiplatform.pipeline_jobs:PipelineJob projects/67845614716/locations/us-central1/pipelineJobs/final-project-pipeline-20240501023307 current state:\n",
            "PipelineState.PIPELINE_STATE_RUNNING\n",
            "INFO:google.cloud.aiplatform.pipeline_jobs:PipelineJob run completed. Resource name: projects/67845614716/locations/us-central1/pipelineJobs/final-project-pipeline-20240501023307\n"
          ]
        }
      ]
    },
    {
      "cell_type": "code",
      "source": [],
      "metadata": {
        "id": "yBBf4GMAt6q1"
      },
      "id": "yBBf4GMAt6q1",
      "execution_count": null,
      "outputs": []
    }
  ],
  "metadata": {
    "kernelspec": {
      "display_name": "Python 3",
      "language": "python",
      "name": "python3"
    },
    "language_info": {
      "codemirror_mode": {
        "name": "ipython",
        "version": 3
      },
      "file_extension": ".py",
      "mimetype": "text/x-python",
      "name": "python",
      "nbconvert_exporter": "python",
      "pygments_lexer": "ipython3",
      "version": "3.10.10"
    },
    "colab": {
      "provenance": [],
      "name": "Main_Pipeline"
    }
  },
  "nbformat": 4,
  "nbformat_minor": 5
}